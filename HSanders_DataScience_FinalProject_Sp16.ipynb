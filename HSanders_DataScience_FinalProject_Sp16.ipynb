{
 "cells": [
  {
   "cell_type": "markdown",
   "metadata": {},
   "source": [
    "## Final Project: Predict a student's GPA using Dartmouth's Student Life Education Dataset\n",
    "Heather R. Sanders\n",
    "\n",
    "CSC 570: Data Science\n",
    "\n",
    "Mike Bernico\n",
    "\n",
    "May 13, 2016\n",
    "\n",
    "### Data:\n",
    "\n",
    "Class, courses each student is taking\n",
    "\n",
    "Deadline, number of deadlines each student has each day\n",
    "\n",
    "Grades, each students cumulative, Spring '13, and CSC 65 gpa\n",
    "\n",
    "Piazza, student accessing LMS"
   ]
  },
  {
   "cell_type": "code",
   "execution_count": 140,
   "metadata": {
    "collapsed": false
   },
   "outputs": [],
   "source": [
    "import pandas as pd\n",
    "import numpy as np\n",
    "import matplotlib as plt\n",
    "from sklearn.cross_validation import train_test_split\n",
    "from sklearn.ensemble import RandomForestClassifier\n",
    "from sklearn.ensemble import RandomForestRegressor\n",
    "from sklearn.cross_validation import train_test_split\n",
    "from sklearn.metrics import accuracy_score\n",
    "from sklearn.metrics import classification_report\n",
    "from sklearn.cluster import KMeans\n",
    "from sklearn.preprocessing import StandardScaler\n",
    "# The error metric. In this case, we will use c-stat (aka ROC/AUC)\n",
    "from sklearn.metrics import roc_auc_score\n",
    "%matplotlib inline"
   ]
  },
  {
   "cell_type": "code",
   "execution_count": 53,
   "metadata": {
    "collapsed": false
   },
   "outputs": [],
   "source": [
    "# Read Education csv data from Dartmouth's Student Life Dataset\n",
    "edClass_df = pd.read_csv(\"/home/heather/Documents/Graduate_School/CSC570_DataScience/FinalProject/dataset/dataset/education/class.csv\")\n",
    "edDead_df = pd.read_csv(\"/home/heather/Documents/Graduate_School/CSC570_DataScience/FinalProject/dataset/dataset/education/deadlines.csv\")\n",
    "edGrades_df = pd.read_csv(\"/home/heather/Documents/Graduate_School/CSC570_DataScience/FinalProject/dataset/dataset/education/grades.csv\")\n",
    "edPiazza_df = pd.read_csv(\"/home/heather/Documents/Graduate_School/CSC570_DataScience/FinalProject/dataset/dataset/education/piazza.csv\")"
   ]
  },
  {
   "cell_type": "markdown",
   "metadata": {},
   "source": [
    "### Look at Education data columns, shape, describe and head"
   ]
  },
  {
   "cell_type": "code",
   "execution_count": 54,
   "metadata": {
    "collapsed": true
   },
   "outputs": [
    {
     "data": {
      "text/plain": [
       "Index([u'uid', u'course1', u'course2', u'course3', u'course4'], dtype='object')"
      ]
     },
     "execution_count": 54,
     "metadata": {},
     "output_type": "execute_result"
    }
   ],
   "source": [
    "# edClass_df lists each student and the courses they are taking\n",
    "edClass_df.columns"
   ]
  },
  {
   "cell_type": "code",
   "execution_count": 55,
   "metadata": {
    "collapsed": true
   },
   "outputs": [
    {
     "data": {
      "text/plain": [
       "(49, 5)"
      ]
     },
     "execution_count": 55,
     "metadata": {},
     "output_type": "execute_result"
    }
   ],
   "source": [
    "edClass_df.shape"
   ]
  },
  {
   "cell_type": "code",
   "execution_count": 56,
   "metadata": {
    "collapsed": true
   },
   "outputs": [
    {
     "data": {
      "text/html": [
       "<div>\n",
       "<table border=\"1\" class=\"dataframe\">\n",
       "  <thead>\n",
       "    <tr style=\"text-align: right;\">\n",
       "      <th></th>\n",
       "      <th>uid</th>\n",
       "      <th>course1</th>\n",
       "      <th>course2</th>\n",
       "      <th>course3</th>\n",
       "      <th>course4</th>\n",
       "    </tr>\n",
       "  </thead>\n",
       "  <tbody>\n",
       "    <tr>\n",
       "      <th>count</th>\n",
       "      <td>49</td>\n",
       "      <td>49</td>\n",
       "      <td>49</td>\n",
       "      <td>49</td>\n",
       "      <td>49</td>\n",
       "    </tr>\n",
       "    <tr>\n",
       "      <th>unique</th>\n",
       "      <td>49</td>\n",
       "      <td>24</td>\n",
       "      <td>21</td>\n",
       "      <td>11</td>\n",
       "      <td>2</td>\n",
       "    </tr>\n",
       "    <tr>\n",
       "      <th>top</th>\n",
       "      <td>u16</td>\n",
       "      <td>COSC 070</td>\n",
       "      <td>COSC 065</td>\n",
       "      <td>na</td>\n",
       "      <td>na</td>\n",
       "    </tr>\n",
       "    <tr>\n",
       "      <th>freq</th>\n",
       "      <td>1</td>\n",
       "      <td>9</td>\n",
       "      <td>19</td>\n",
       "      <td>21</td>\n",
       "      <td>46</td>\n",
       "    </tr>\n",
       "  </tbody>\n",
       "</table>\n",
       "</div>"
      ],
      "text/plain": [
       "        uid   course1   course2 course3 course4\n",
       "count    49        49        49      49      49\n",
       "unique   49        24        21      11       2\n",
       "top     u16  COSC 070  COSC 065      na      na\n",
       "freq      1         9        19      21      46"
      ]
     },
     "execution_count": 56,
     "metadata": {},
     "output_type": "execute_result"
    }
   ],
   "source": [
    "edClass_df.describe()"
   ]
  },
  {
   "cell_type": "code",
   "execution_count": 57,
   "metadata": {
    "collapsed": true
   },
   "outputs": [
    {
     "data": {
      "text/plain": [
       "array(['na', 'ENGS 069', 'ENGS 022', 'ANTH 012', 'COSC 077', 'COSC 098',\n",
       "       'COSC 065', 'COSC 057', 'COSC 050', 'PSYC 028', 'COSC 060',\n",
       "       'CHIN 062', 'COSC 089 1', 'ANTH 050', 'COSC 099', 'BIOL 004',\n",
       "       'TUCK 003', 'COSC 070', 'COSC 027', 'COSC 020', 'EARS 003',\n",
       "       'SPAN 003', 'MUS 016', 'CHIN 033', 'FILM 051', 'NAS 035',\n",
       "       'M&SS 045', 'NAS 008', 'ENGL 028', 'ECON 024', 'JAPN 033',\n",
       "       'FILM 042', 'MUS 003', 'MATH 023', 'COSC 069', 'ENGS 025',\n",
       "       'ENGS 093', 'SPAN 002', 'ENGS 031', 'ECON 036', 'MATH 013',\n",
       "       'LAT 003', 'BIOL 006', 'GERM 001', 'COSC 007'], dtype=object)"
      ]
     },
     "execution_count": 57,
     "metadata": {},
     "output_type": "execute_result"
    }
   ],
   "source": [
    "# List all classes students are taking\n",
    "pd.unique(edClass_df[['course1','course2','course3','course4']].values.ravel())"
   ]
  },
  {
   "cell_type": "code",
   "execution_count": 58,
   "metadata": {
    "collapsed": false
   },
   "outputs": [],
   "source": [
    "# Convert classes to dummies\n",
    "class_Series = pd.get_dummies(edClass_df[['course1','course2','course3','course4']].apply(pd.Series).stack()).sum(level=0)"
   ]
  },
  {
   "cell_type": "code",
   "execution_count": 59,
   "metadata": {
    "collapsed": true
   },
   "outputs": [
    {
     "data": {
      "text/plain": [
       "(49, 45)"
      ]
     },
     "execution_count": 59,
     "metadata": {},
     "output_type": "execute_result"
    }
   ],
   "source": [
    "class_Series.shape"
   ]
  },
  {
   "cell_type": "code",
   "execution_count": 60,
   "metadata": {
    "collapsed": true
   },
   "outputs": [
    {
     "data": {
      "text/html": [
       "<div>\n",
       "<table border=\"1\" class=\"dataframe\">\n",
       "  <thead>\n",
       "    <tr style=\"text-align: right;\">\n",
       "      <th></th>\n",
       "      <th>uid</th>\n",
       "      <th>course1</th>\n",
       "      <th>course2</th>\n",
       "      <th>course3</th>\n",
       "      <th>course4</th>\n",
       "    </tr>\n",
       "  </thead>\n",
       "  <tbody>\n",
       "    <tr>\n",
       "      <th>0</th>\n",
       "      <td>u00</td>\n",
       "      <td>na</td>\n",
       "      <td>na</td>\n",
       "      <td>na</td>\n",
       "      <td>na</td>\n",
       "    </tr>\n",
       "    <tr>\n",
       "      <th>1</th>\n",
       "      <td>u01</td>\n",
       "      <td>ENGS 069</td>\n",
       "      <td>ENGS 022</td>\n",
       "      <td>ANTH 012</td>\n",
       "      <td>na</td>\n",
       "    </tr>\n",
       "    <tr>\n",
       "      <th>2</th>\n",
       "      <td>u02</td>\n",
       "      <td>COSC 077</td>\n",
       "      <td>COSC 098</td>\n",
       "      <td>COSC 065</td>\n",
       "      <td>na</td>\n",
       "    </tr>\n",
       "    <tr>\n",
       "      <th>3</th>\n",
       "      <td>u03</td>\n",
       "      <td>COSC 057</td>\n",
       "      <td>COSC 065</td>\n",
       "      <td>na</td>\n",
       "      <td>na</td>\n",
       "    </tr>\n",
       "    <tr>\n",
       "      <th>4</th>\n",
       "      <td>u04</td>\n",
       "      <td>COSC 065</td>\n",
       "      <td>na</td>\n",
       "      <td>na</td>\n",
       "      <td>na</td>\n",
       "    </tr>\n",
       "  </tbody>\n",
       "</table>\n",
       "</div>"
      ],
      "text/plain": [
       "   uid   course1   course2   course3 course4\n",
       "0  u00        na        na        na      na\n",
       "1  u01  ENGS 069  ENGS 022  ANTH 012      na\n",
       "2  u02  COSC 077  COSC 098  COSC 065      na\n",
       "3  u03  COSC 057  COSC 065        na      na\n",
       "4  u04  COSC 065        na        na      na"
      ]
     },
     "execution_count": 60,
     "metadata": {},
     "output_type": "execute_result"
    }
   ],
   "source": [
    "edClass_df.head(5)"
   ]
  },
  {
   "cell_type": "code",
   "execution_count": 61,
   "metadata": {
    "collapsed": true
   },
   "outputs": [],
   "source": [
    "# Merge Class uid with class_Series\n",
    "uID = edClass_df[['uid']]"
   ]
  },
  {
   "cell_type": "code",
   "execution_count": 62,
   "metadata": {
    "collapsed": true
   },
   "outputs": [],
   "source": [
    "class_df=pd.concat([uID, class_Series], axis=1)"
   ]
  },
  {
   "cell_type": "code",
   "execution_count": 63,
   "metadata": {
    "collapsed": true
   },
   "outputs": [
    {
     "data": {
      "text/plain": [
       "(49, 46)"
      ]
     },
     "execution_count": 63,
     "metadata": {},
     "output_type": "execute_result"
    }
   ],
   "source": [
    "class_df.shape"
   ]
  },
  {
   "cell_type": "code",
   "execution_count": 65,
   "metadata": {
    "collapsed": true
   },
   "outputs": [
    {
     "data": {
      "text/html": [
       "<div>\n",
       "<table border=\"1\" class=\"dataframe\">\n",
       "  <thead>\n",
       "    <tr style=\"text-align: right;\">\n",
       "      <th></th>\n",
       "      <th>uid</th>\n",
       "      <th>ANTH 012</th>\n",
       "      <th>ANTH 050</th>\n",
       "      <th>BIOL 004</th>\n",
       "      <th>BIOL 006</th>\n",
       "      <th>CHIN 033</th>\n",
       "      <th>CHIN 062</th>\n",
       "      <th>COSC 007</th>\n",
       "      <th>COSC 020</th>\n",
       "      <th>COSC 027</th>\n",
       "      <th>...</th>\n",
       "      <th>MATH 023</th>\n",
       "      <th>MUS 003</th>\n",
       "      <th>MUS 016</th>\n",
       "      <th>NAS 008</th>\n",
       "      <th>NAS 035</th>\n",
       "      <th>PSYC 028</th>\n",
       "      <th>SPAN 002</th>\n",
       "      <th>SPAN 003</th>\n",
       "      <th>TUCK 003</th>\n",
       "      <th>na</th>\n",
       "    </tr>\n",
       "  </thead>\n",
       "  <tbody>\n",
       "    <tr>\n",
       "      <th>0</th>\n",
       "      <td>u00</td>\n",
       "      <td>0.0</td>\n",
       "      <td>0.0</td>\n",
       "      <td>0.0</td>\n",
       "      <td>0.0</td>\n",
       "      <td>0.0</td>\n",
       "      <td>0.0</td>\n",
       "      <td>0.0</td>\n",
       "      <td>0.0</td>\n",
       "      <td>0.0</td>\n",
       "      <td>...</td>\n",
       "      <td>0.0</td>\n",
       "      <td>0.0</td>\n",
       "      <td>0.0</td>\n",
       "      <td>0.0</td>\n",
       "      <td>0.0</td>\n",
       "      <td>0.0</td>\n",
       "      <td>0.0</td>\n",
       "      <td>0.0</td>\n",
       "      <td>0.0</td>\n",
       "      <td>4.0</td>\n",
       "    </tr>\n",
       "    <tr>\n",
       "      <th>1</th>\n",
       "      <td>u01</td>\n",
       "      <td>1.0</td>\n",
       "      <td>0.0</td>\n",
       "      <td>0.0</td>\n",
       "      <td>0.0</td>\n",
       "      <td>0.0</td>\n",
       "      <td>0.0</td>\n",
       "      <td>0.0</td>\n",
       "      <td>0.0</td>\n",
       "      <td>0.0</td>\n",
       "      <td>...</td>\n",
       "      <td>0.0</td>\n",
       "      <td>0.0</td>\n",
       "      <td>0.0</td>\n",
       "      <td>0.0</td>\n",
       "      <td>0.0</td>\n",
       "      <td>0.0</td>\n",
       "      <td>0.0</td>\n",
       "      <td>0.0</td>\n",
       "      <td>0.0</td>\n",
       "      <td>1.0</td>\n",
       "    </tr>\n",
       "    <tr>\n",
       "      <th>2</th>\n",
       "      <td>u02</td>\n",
       "      <td>0.0</td>\n",
       "      <td>0.0</td>\n",
       "      <td>0.0</td>\n",
       "      <td>0.0</td>\n",
       "      <td>0.0</td>\n",
       "      <td>0.0</td>\n",
       "      <td>0.0</td>\n",
       "      <td>0.0</td>\n",
       "      <td>0.0</td>\n",
       "      <td>...</td>\n",
       "      <td>0.0</td>\n",
       "      <td>0.0</td>\n",
       "      <td>0.0</td>\n",
       "      <td>0.0</td>\n",
       "      <td>0.0</td>\n",
       "      <td>0.0</td>\n",
       "      <td>0.0</td>\n",
       "      <td>0.0</td>\n",
       "      <td>0.0</td>\n",
       "      <td>1.0</td>\n",
       "    </tr>\n",
       "    <tr>\n",
       "      <th>3</th>\n",
       "      <td>u03</td>\n",
       "      <td>0.0</td>\n",
       "      <td>0.0</td>\n",
       "      <td>0.0</td>\n",
       "      <td>0.0</td>\n",
       "      <td>0.0</td>\n",
       "      <td>0.0</td>\n",
       "      <td>0.0</td>\n",
       "      <td>0.0</td>\n",
       "      <td>0.0</td>\n",
       "      <td>...</td>\n",
       "      <td>0.0</td>\n",
       "      <td>0.0</td>\n",
       "      <td>0.0</td>\n",
       "      <td>0.0</td>\n",
       "      <td>0.0</td>\n",
       "      <td>0.0</td>\n",
       "      <td>0.0</td>\n",
       "      <td>0.0</td>\n",
       "      <td>0.0</td>\n",
       "      <td>2.0</td>\n",
       "    </tr>\n",
       "    <tr>\n",
       "      <th>4</th>\n",
       "      <td>u04</td>\n",
       "      <td>0.0</td>\n",
       "      <td>0.0</td>\n",
       "      <td>0.0</td>\n",
       "      <td>0.0</td>\n",
       "      <td>0.0</td>\n",
       "      <td>0.0</td>\n",
       "      <td>0.0</td>\n",
       "      <td>0.0</td>\n",
       "      <td>0.0</td>\n",
       "      <td>...</td>\n",
       "      <td>0.0</td>\n",
       "      <td>0.0</td>\n",
       "      <td>0.0</td>\n",
       "      <td>0.0</td>\n",
       "      <td>0.0</td>\n",
       "      <td>0.0</td>\n",
       "      <td>0.0</td>\n",
       "      <td>0.0</td>\n",
       "      <td>0.0</td>\n",
       "      <td>3.0</td>\n",
       "    </tr>\n",
       "  </tbody>\n",
       "</table>\n",
       "<p>5 rows × 46 columns</p>\n",
       "</div>"
      ],
      "text/plain": [
       "   uid  ANTH 012  ANTH 050  BIOL 004  BIOL 006  CHIN 033  CHIN 062  COSC 007  \\\n",
       "0  u00       0.0       0.0       0.0       0.0       0.0       0.0       0.0   \n",
       "1  u01       1.0       0.0       0.0       0.0       0.0       0.0       0.0   \n",
       "2  u02       0.0       0.0       0.0       0.0       0.0       0.0       0.0   \n",
       "3  u03       0.0       0.0       0.0       0.0       0.0       0.0       0.0   \n",
       "4  u04       0.0       0.0       0.0       0.0       0.0       0.0       0.0   \n",
       "\n",
       "   COSC 020  COSC 027 ...   MATH 023  MUS 003  MUS 016  NAS 008  NAS 035  \\\n",
       "0       0.0       0.0 ...        0.0      0.0      0.0      0.0      0.0   \n",
       "1       0.0       0.0 ...        0.0      0.0      0.0      0.0      0.0   \n",
       "2       0.0       0.0 ...        0.0      0.0      0.0      0.0      0.0   \n",
       "3       0.0       0.0 ...        0.0      0.0      0.0      0.0      0.0   \n",
       "4       0.0       0.0 ...        0.0      0.0      0.0      0.0      0.0   \n",
       "\n",
       "   PSYC 028  SPAN 002  SPAN 003  TUCK 003   na  \n",
       "0       0.0       0.0       0.0       0.0  4.0  \n",
       "1       0.0       0.0       0.0       0.0  1.0  \n",
       "2       0.0       0.0       0.0       0.0  1.0  \n",
       "3       0.0       0.0       0.0       0.0  2.0  \n",
       "4       0.0       0.0       0.0       0.0  3.0  \n",
       "\n",
       "[5 rows x 46 columns]"
      ]
     },
     "execution_count": 65,
     "metadata": {},
     "output_type": "execute_result"
    }
   ],
   "source": [
    "class_df.head(5)"
   ]
  },
  {
   "cell_type": "code",
   "execution_count": 7,
   "metadata": {
    "collapsed": true
   },
   "outputs": [
    {
     "data": {
      "text/plain": [
       "Index([u'uid', u'2013-03-27', u'2013-03-28', u'2013-03-29', u'2013-03-30',\n",
       "       u'2013-03-31', u'2013-04-01', u'2013-04-02', u'2013-04-03',\n",
       "       u'2013-04-04',\n",
       "       ...\n",
       "       u'2013-08-10', u'2013-08-11', u'2013-08-12', u'2013-08-13',\n",
       "       u'2013-08-14', u'2013-08-15', u'2013-08-16', u'2013-08-17',\n",
       "       u'2013-08-18', u'2013-08-19'],\n",
       "      dtype='object', length=147)"
      ]
     },
     "execution_count": 7,
     "metadata": {},
     "output_type": "execute_result"
    }
   ],
   "source": [
    "# edDead_df lists each students number of class deadlines per day\n",
    "edDead_df.columns"
   ]
  },
  {
   "cell_type": "code",
   "execution_count": 14,
   "metadata": {
    "collapsed": true
   },
   "outputs": [
    {
     "data": {
      "text/plain": [
       "(44, 147)"
      ]
     },
     "execution_count": 14,
     "metadata": {},
     "output_type": "execute_result"
    }
   ],
   "source": [
    "edDead_df.shape"
   ]
  },
  {
   "cell_type": "code",
   "execution_count": 17,
   "metadata": {
    "collapsed": true
   },
   "outputs": [
    {
     "data": {
      "text/html": [
       "<div>\n",
       "<table border=\"1\" class=\"dataframe\">\n",
       "  <thead>\n",
       "    <tr style=\"text-align: right;\">\n",
       "      <th></th>\n",
       "      <th>2013-03-27</th>\n",
       "      <th>2013-03-28</th>\n",
       "      <th>2013-03-29</th>\n",
       "      <th>2013-03-30</th>\n",
       "      <th>2013-03-31</th>\n",
       "      <th>2013-04-01</th>\n",
       "      <th>2013-04-02</th>\n",
       "      <th>2013-04-03</th>\n",
       "      <th>2013-04-04</th>\n",
       "      <th>2013-04-05</th>\n",
       "      <th>...</th>\n",
       "      <th>2013-08-10</th>\n",
       "      <th>2013-08-11</th>\n",
       "      <th>2013-08-12</th>\n",
       "      <th>2013-08-13</th>\n",
       "      <th>2013-08-14</th>\n",
       "      <th>2013-08-15</th>\n",
       "      <th>2013-08-16</th>\n",
       "      <th>2013-08-17</th>\n",
       "      <th>2013-08-18</th>\n",
       "      <th>2013-08-19</th>\n",
       "    </tr>\n",
       "  </thead>\n",
       "  <tbody>\n",
       "    <tr>\n",
       "      <th>count</th>\n",
       "      <td>44.000000</td>\n",
       "      <td>44.000000</td>\n",
       "      <td>44.000000</td>\n",
       "      <td>44.0</td>\n",
       "      <td>44.000000</td>\n",
       "      <td>44.000000</td>\n",
       "      <td>44.000000</td>\n",
       "      <td>44.000000</td>\n",
       "      <td>44.000000</td>\n",
       "      <td>44.000000</td>\n",
       "      <td>...</td>\n",
       "      <td>0.0</td>\n",
       "      <td>0.0</td>\n",
       "      <td>0.0</td>\n",
       "      <td>0.0</td>\n",
       "      <td>0.0</td>\n",
       "      <td>0.0</td>\n",
       "      <td>0.0</td>\n",
       "      <td>0.0</td>\n",
       "      <td>0.0</td>\n",
       "      <td>0.0</td>\n",
       "    </tr>\n",
       "    <tr>\n",
       "      <th>mean</th>\n",
       "      <td>0.068182</td>\n",
       "      <td>0.068182</td>\n",
       "      <td>0.136364</td>\n",
       "      <td>0.0</td>\n",
       "      <td>0.204545</td>\n",
       "      <td>0.250000</td>\n",
       "      <td>0.340909</td>\n",
       "      <td>0.113636</td>\n",
       "      <td>0.022727</td>\n",
       "      <td>0.181818</td>\n",
       "      <td>...</td>\n",
       "      <td>NaN</td>\n",
       "      <td>NaN</td>\n",
       "      <td>NaN</td>\n",
       "      <td>NaN</td>\n",
       "      <td>NaN</td>\n",
       "      <td>NaN</td>\n",
       "      <td>NaN</td>\n",
       "      <td>NaN</td>\n",
       "      <td>NaN</td>\n",
       "      <td>NaN</td>\n",
       "    </tr>\n",
       "    <tr>\n",
       "      <th>std</th>\n",
       "      <td>0.333949</td>\n",
       "      <td>0.254972</td>\n",
       "      <td>0.408680</td>\n",
       "      <td>0.0</td>\n",
       "      <td>0.408032</td>\n",
       "      <td>0.533745</td>\n",
       "      <td>0.525763</td>\n",
       "      <td>0.442819</td>\n",
       "      <td>0.150756</td>\n",
       "      <td>0.495220</td>\n",
       "      <td>...</td>\n",
       "      <td>NaN</td>\n",
       "      <td>NaN</td>\n",
       "      <td>NaN</td>\n",
       "      <td>NaN</td>\n",
       "      <td>NaN</td>\n",
       "      <td>NaN</td>\n",
       "      <td>NaN</td>\n",
       "      <td>NaN</td>\n",
       "      <td>NaN</td>\n",
       "      <td>NaN</td>\n",
       "    </tr>\n",
       "    <tr>\n",
       "      <th>min</th>\n",
       "      <td>0.000000</td>\n",
       "      <td>0.000000</td>\n",
       "      <td>0.000000</td>\n",
       "      <td>0.0</td>\n",
       "      <td>0.000000</td>\n",
       "      <td>0.000000</td>\n",
       "      <td>0.000000</td>\n",
       "      <td>0.000000</td>\n",
       "      <td>0.000000</td>\n",
       "      <td>0.000000</td>\n",
       "      <td>...</td>\n",
       "      <td>NaN</td>\n",
       "      <td>NaN</td>\n",
       "      <td>NaN</td>\n",
       "      <td>NaN</td>\n",
       "      <td>NaN</td>\n",
       "      <td>NaN</td>\n",
       "      <td>NaN</td>\n",
       "      <td>NaN</td>\n",
       "      <td>NaN</td>\n",
       "      <td>NaN</td>\n",
       "    </tr>\n",
       "    <tr>\n",
       "      <th>25%</th>\n",
       "      <td>0.000000</td>\n",
       "      <td>0.000000</td>\n",
       "      <td>0.000000</td>\n",
       "      <td>0.0</td>\n",
       "      <td>0.000000</td>\n",
       "      <td>0.000000</td>\n",
       "      <td>0.000000</td>\n",
       "      <td>0.000000</td>\n",
       "      <td>0.000000</td>\n",
       "      <td>0.000000</td>\n",
       "      <td>...</td>\n",
       "      <td>NaN</td>\n",
       "      <td>NaN</td>\n",
       "      <td>NaN</td>\n",
       "      <td>NaN</td>\n",
       "      <td>NaN</td>\n",
       "      <td>NaN</td>\n",
       "      <td>NaN</td>\n",
       "      <td>NaN</td>\n",
       "      <td>NaN</td>\n",
       "      <td>NaN</td>\n",
       "    </tr>\n",
       "    <tr>\n",
       "      <th>50%</th>\n",
       "      <td>0.000000</td>\n",
       "      <td>0.000000</td>\n",
       "      <td>0.000000</td>\n",
       "      <td>0.0</td>\n",
       "      <td>0.000000</td>\n",
       "      <td>0.000000</td>\n",
       "      <td>0.000000</td>\n",
       "      <td>0.000000</td>\n",
       "      <td>0.000000</td>\n",
       "      <td>0.000000</td>\n",
       "      <td>...</td>\n",
       "      <td>NaN</td>\n",
       "      <td>NaN</td>\n",
       "      <td>NaN</td>\n",
       "      <td>NaN</td>\n",
       "      <td>NaN</td>\n",
       "      <td>NaN</td>\n",
       "      <td>NaN</td>\n",
       "      <td>NaN</td>\n",
       "      <td>NaN</td>\n",
       "      <td>NaN</td>\n",
       "    </tr>\n",
       "    <tr>\n",
       "      <th>75%</th>\n",
       "      <td>0.000000</td>\n",
       "      <td>0.000000</td>\n",
       "      <td>0.000000</td>\n",
       "      <td>0.0</td>\n",
       "      <td>0.000000</td>\n",
       "      <td>0.000000</td>\n",
       "      <td>1.000000</td>\n",
       "      <td>0.000000</td>\n",
       "      <td>0.000000</td>\n",
       "      <td>0.000000</td>\n",
       "      <td>...</td>\n",
       "      <td>NaN</td>\n",
       "      <td>NaN</td>\n",
       "      <td>NaN</td>\n",
       "      <td>NaN</td>\n",
       "      <td>NaN</td>\n",
       "      <td>NaN</td>\n",
       "      <td>NaN</td>\n",
       "      <td>NaN</td>\n",
       "      <td>NaN</td>\n",
       "      <td>NaN</td>\n",
       "    </tr>\n",
       "    <tr>\n",
       "      <th>max</th>\n",
       "      <td>2.000000</td>\n",
       "      <td>1.000000</td>\n",
       "      <td>2.000000</td>\n",
       "      <td>0.0</td>\n",
       "      <td>1.000000</td>\n",
       "      <td>2.000000</td>\n",
       "      <td>2.000000</td>\n",
       "      <td>2.000000</td>\n",
       "      <td>1.000000</td>\n",
       "      <td>2.000000</td>\n",
       "      <td>...</td>\n",
       "      <td>NaN</td>\n",
       "      <td>NaN</td>\n",
       "      <td>NaN</td>\n",
       "      <td>NaN</td>\n",
       "      <td>NaN</td>\n",
       "      <td>NaN</td>\n",
       "      <td>NaN</td>\n",
       "      <td>NaN</td>\n",
       "      <td>NaN</td>\n",
       "      <td>NaN</td>\n",
       "    </tr>\n",
       "  </tbody>\n",
       "</table>\n",
       "<p>8 rows × 146 columns</p>\n",
       "</div>"
      ],
      "text/plain": [
       "       2013-03-27  2013-03-28  2013-03-29  2013-03-30  2013-03-31  2013-04-01  \\\n",
       "count   44.000000   44.000000   44.000000        44.0   44.000000   44.000000   \n",
       "mean     0.068182    0.068182    0.136364         0.0    0.204545    0.250000   \n",
       "std      0.333949    0.254972    0.408680         0.0    0.408032    0.533745   \n",
       "min      0.000000    0.000000    0.000000         0.0    0.000000    0.000000   \n",
       "25%      0.000000    0.000000    0.000000         0.0    0.000000    0.000000   \n",
       "50%      0.000000    0.000000    0.000000         0.0    0.000000    0.000000   \n",
       "75%      0.000000    0.000000    0.000000         0.0    0.000000    0.000000   \n",
       "max      2.000000    1.000000    2.000000         0.0    1.000000    2.000000   \n",
       "\n",
       "       2013-04-02  2013-04-03  2013-04-04  2013-04-05     ...      2013-08-10  \\\n",
       "count   44.000000   44.000000   44.000000   44.000000     ...             0.0   \n",
       "mean     0.340909    0.113636    0.022727    0.181818     ...             NaN   \n",
       "std      0.525763    0.442819    0.150756    0.495220     ...             NaN   \n",
       "min      0.000000    0.000000    0.000000    0.000000     ...             NaN   \n",
       "25%      0.000000    0.000000    0.000000    0.000000     ...             NaN   \n",
       "50%      0.000000    0.000000    0.000000    0.000000     ...             NaN   \n",
       "75%      1.000000    0.000000    0.000000    0.000000     ...             NaN   \n",
       "max      2.000000    2.000000    1.000000    2.000000     ...             NaN   \n",
       "\n",
       "       2013-08-11  2013-08-12  2013-08-13  2013-08-14  2013-08-15  2013-08-16  \\\n",
       "count         0.0         0.0         0.0         0.0         0.0         0.0   \n",
       "mean          NaN         NaN         NaN         NaN         NaN         NaN   \n",
       "std           NaN         NaN         NaN         NaN         NaN         NaN   \n",
       "min           NaN         NaN         NaN         NaN         NaN         NaN   \n",
       "25%           NaN         NaN         NaN         NaN         NaN         NaN   \n",
       "50%           NaN         NaN         NaN         NaN         NaN         NaN   \n",
       "75%           NaN         NaN         NaN         NaN         NaN         NaN   \n",
       "max           NaN         NaN         NaN         NaN         NaN         NaN   \n",
       "\n",
       "       2013-08-17  2013-08-18  2013-08-19  \n",
       "count         0.0         0.0         0.0  \n",
       "mean          NaN         NaN         NaN  \n",
       "std           NaN         NaN         NaN  \n",
       "min           NaN         NaN         NaN  \n",
       "25%           NaN         NaN         NaN  \n",
       "50%           NaN         NaN         NaN  \n",
       "75%           NaN         NaN         NaN  \n",
       "max           NaN         NaN         NaN  \n",
       "\n",
       "[8 rows x 146 columns]"
      ]
     },
     "execution_count": 17,
     "metadata": {},
     "output_type": "execute_result"
    }
   ],
   "source": [
    "edDead_df.describe()"
   ]
  },
  {
   "cell_type": "code",
   "execution_count": 23,
   "metadata": {
    "collapsed": true
   },
   "outputs": [
    {
     "data": {
      "text/html": [
       "<div>\n",
       "<table border=\"1\" class=\"dataframe\">\n",
       "  <thead>\n",
       "    <tr style=\"text-align: right;\">\n",
       "      <th></th>\n",
       "      <th>uid</th>\n",
       "      <th>2013-03-27</th>\n",
       "      <th>2013-03-28</th>\n",
       "      <th>2013-03-29</th>\n",
       "      <th>2013-03-30</th>\n",
       "      <th>2013-03-31</th>\n",
       "      <th>2013-04-01</th>\n",
       "      <th>2013-04-02</th>\n",
       "      <th>2013-04-03</th>\n",
       "      <th>2013-04-04</th>\n",
       "      <th>...</th>\n",
       "      <th>2013-08-10</th>\n",
       "      <th>2013-08-11</th>\n",
       "      <th>2013-08-12</th>\n",
       "      <th>2013-08-13</th>\n",
       "      <th>2013-08-14</th>\n",
       "      <th>2013-08-15</th>\n",
       "      <th>2013-08-16</th>\n",
       "      <th>2013-08-17</th>\n",
       "      <th>2013-08-18</th>\n",
       "      <th>2013-08-19</th>\n",
       "    </tr>\n",
       "  </thead>\n",
       "  <tbody>\n",
       "    <tr>\n",
       "      <th>0</th>\n",
       "      <td>u01</td>\n",
       "      <td>0</td>\n",
       "      <td>0</td>\n",
       "      <td>0</td>\n",
       "      <td>0</td>\n",
       "      <td>0</td>\n",
       "      <td>0</td>\n",
       "      <td>0</td>\n",
       "      <td>0</td>\n",
       "      <td>0</td>\n",
       "      <td>...</td>\n",
       "      <td>NaN</td>\n",
       "      <td>NaN</td>\n",
       "      <td>NaN</td>\n",
       "      <td>NaN</td>\n",
       "      <td>NaN</td>\n",
       "      <td>NaN</td>\n",
       "      <td>NaN</td>\n",
       "      <td>NaN</td>\n",
       "      <td>NaN</td>\n",
       "      <td>NaN</td>\n",
       "    </tr>\n",
       "    <tr>\n",
       "      <th>1</th>\n",
       "      <td>u02</td>\n",
       "      <td>0</td>\n",
       "      <td>0</td>\n",
       "      <td>0</td>\n",
       "      <td>0</td>\n",
       "      <td>0</td>\n",
       "      <td>0</td>\n",
       "      <td>1</td>\n",
       "      <td>0</td>\n",
       "      <td>0</td>\n",
       "      <td>...</td>\n",
       "      <td>NaN</td>\n",
       "      <td>NaN</td>\n",
       "      <td>NaN</td>\n",
       "      <td>NaN</td>\n",
       "      <td>NaN</td>\n",
       "      <td>NaN</td>\n",
       "      <td>NaN</td>\n",
       "      <td>NaN</td>\n",
       "      <td>NaN</td>\n",
       "      <td>NaN</td>\n",
       "    </tr>\n",
       "    <tr>\n",
       "      <th>2</th>\n",
       "      <td>u03</td>\n",
       "      <td>0</td>\n",
       "      <td>0</td>\n",
       "      <td>0</td>\n",
       "      <td>0</td>\n",
       "      <td>0</td>\n",
       "      <td>0</td>\n",
       "      <td>0</td>\n",
       "      <td>0</td>\n",
       "      <td>0</td>\n",
       "      <td>...</td>\n",
       "      <td>NaN</td>\n",
       "      <td>NaN</td>\n",
       "      <td>NaN</td>\n",
       "      <td>NaN</td>\n",
       "      <td>NaN</td>\n",
       "      <td>NaN</td>\n",
       "      <td>NaN</td>\n",
       "      <td>NaN</td>\n",
       "      <td>NaN</td>\n",
       "      <td>NaN</td>\n",
       "    </tr>\n",
       "    <tr>\n",
       "      <th>3</th>\n",
       "      <td>u04</td>\n",
       "      <td>0</td>\n",
       "      <td>0</td>\n",
       "      <td>0</td>\n",
       "      <td>0</td>\n",
       "      <td>0</td>\n",
       "      <td>0</td>\n",
       "      <td>0</td>\n",
       "      <td>0</td>\n",
       "      <td>0</td>\n",
       "      <td>...</td>\n",
       "      <td>NaN</td>\n",
       "      <td>NaN</td>\n",
       "      <td>NaN</td>\n",
       "      <td>NaN</td>\n",
       "      <td>NaN</td>\n",
       "      <td>NaN</td>\n",
       "      <td>NaN</td>\n",
       "      <td>NaN</td>\n",
       "      <td>NaN</td>\n",
       "      <td>NaN</td>\n",
       "    </tr>\n",
       "    <tr>\n",
       "      <th>4</th>\n",
       "      <td>u05</td>\n",
       "      <td>0</td>\n",
       "      <td>0</td>\n",
       "      <td>0</td>\n",
       "      <td>0</td>\n",
       "      <td>1</td>\n",
       "      <td>0</td>\n",
       "      <td>0</td>\n",
       "      <td>0</td>\n",
       "      <td>0</td>\n",
       "      <td>...</td>\n",
       "      <td>NaN</td>\n",
       "      <td>NaN</td>\n",
       "      <td>NaN</td>\n",
       "      <td>NaN</td>\n",
       "      <td>NaN</td>\n",
       "      <td>NaN</td>\n",
       "      <td>NaN</td>\n",
       "      <td>NaN</td>\n",
       "      <td>NaN</td>\n",
       "      <td>NaN</td>\n",
       "    </tr>\n",
       "  </tbody>\n",
       "</table>\n",
       "<p>5 rows × 147 columns</p>\n",
       "</div>"
      ],
      "text/plain": [
       "   uid  2013-03-27  2013-03-28  2013-03-29  2013-03-30  2013-03-31  \\\n",
       "0  u01           0           0           0           0           0   \n",
       "1  u02           0           0           0           0           0   \n",
       "2  u03           0           0           0           0           0   \n",
       "3  u04           0           0           0           0           0   \n",
       "4  u05           0           0           0           0           1   \n",
       "\n",
       "   2013-04-01  2013-04-02  2013-04-03  2013-04-04     ...      2013-08-10  \\\n",
       "0           0           0           0           0     ...             NaN   \n",
       "1           0           1           0           0     ...             NaN   \n",
       "2           0           0           0           0     ...             NaN   \n",
       "3           0           0           0           0     ...             NaN   \n",
       "4           0           0           0           0     ...             NaN   \n",
       "\n",
       "   2013-08-11  2013-08-12  2013-08-13  2013-08-14  2013-08-15  2013-08-16  \\\n",
       "0         NaN         NaN         NaN         NaN         NaN         NaN   \n",
       "1         NaN         NaN         NaN         NaN         NaN         NaN   \n",
       "2         NaN         NaN         NaN         NaN         NaN         NaN   \n",
       "3         NaN         NaN         NaN         NaN         NaN         NaN   \n",
       "4         NaN         NaN         NaN         NaN         NaN         NaN   \n",
       "\n",
       "   2013-08-17  2013-08-18  2013-08-19  \n",
       "0         NaN         NaN         NaN  \n",
       "1         NaN         NaN         NaN  \n",
       "2         NaN         NaN         NaN  \n",
       "3         NaN         NaN         NaN  \n",
       "4         NaN         NaN         NaN  \n",
       "\n",
       "[5 rows x 147 columns]"
      ]
     },
     "execution_count": 23,
     "metadata": {},
     "output_type": "execute_result"
    }
   ],
   "source": [
    "edDead_df.head(5)"
   ]
  },
  {
   "cell_type": "code",
   "execution_count": 66,
   "metadata": {
    "collapsed": true
   },
   "outputs": [
    {
     "data": {
      "text/plain": [
       "uid            0\n",
       "2013-03-27     0\n",
       "2013-03-28     0\n",
       "2013-03-29     0\n",
       "2013-03-30     0\n",
       "2013-03-31     0\n",
       "2013-04-01     0\n",
       "2013-04-02     0\n",
       "2013-04-03     0\n",
       "2013-04-04     0\n",
       "2013-04-05     0\n",
       "2013-04-06     0\n",
       "2013-04-07     0\n",
       "2013-04-08     0\n",
       "2013-04-09     0\n",
       "2013-04-10     0\n",
       "2013-04-11     0\n",
       "2013-04-12     0\n",
       "2013-04-13     0\n",
       "2013-04-14     0\n",
       "2013-04-15     0\n",
       "2013-04-16     0\n",
       "2013-04-17     0\n",
       "2013-04-18     0\n",
       "2013-04-19     0\n",
       "2013-04-20     0\n",
       "2013-04-21     0\n",
       "2013-04-22     0\n",
       "2013-04-23     0\n",
       "2013-04-24     0\n",
       "              ..\n",
       "2013-07-21    44\n",
       "2013-07-22    44\n",
       "2013-07-23    44\n",
       "2013-07-24    44\n",
       "2013-07-25    44\n",
       "2013-07-26    44\n",
       "2013-07-27    44\n",
       "2013-07-28    44\n",
       "2013-07-29    44\n",
       "2013-07-30    44\n",
       "2013-07-31    44\n",
       "2013-08-01    44\n",
       "2013-08-02    44\n",
       "2013-08-03    44\n",
       "2013-08-04    44\n",
       "2013-08-05    44\n",
       "2013-08-06    44\n",
       "2013-08-07    44\n",
       "2013-08-08    44\n",
       "2013-08-09    44\n",
       "2013-08-10    44\n",
       "2013-08-11    44\n",
       "2013-08-12    44\n",
       "2013-08-13    44\n",
       "2013-08-14    44\n",
       "2013-08-15    44\n",
       "2013-08-16    44\n",
       "2013-08-17    44\n",
       "2013-08-18    44\n",
       "2013-08-19    44\n",
       "dtype: int64"
      ]
     },
     "execution_count": 66,
     "metadata": {},
     "output_type": "execute_result"
    }
   ],
   "source": [
    "# Determine number of NaN\n",
    "edDead_df.isnull().sum()"
   ]
  },
  {
   "cell_type": "code",
   "execution_count": 67,
   "metadata": {
    "collapsed": true
   },
   "outputs": [],
   "source": [
    "# Everything after 2013-06-06 is empty, delete those columns\n",
    "deadline_df = edDead_df.ix[:,:'2013-06-05']"
   ]
  },
  {
   "cell_type": "code",
   "execution_count": 68,
   "metadata": {
    "collapsed": true
   },
   "outputs": [
    {
     "data": {
      "text/plain": [
       "(44, 72)"
      ]
     },
     "execution_count": 68,
     "metadata": {},
     "output_type": "execute_result"
    }
   ],
   "source": [
    "deadline_df.shape"
   ]
  },
  {
   "cell_type": "code",
   "execution_count": 9,
   "metadata": {
    "collapsed": false
   },
   "outputs": [
    {
     "data": {
      "text/plain": [
       "Index([u'uid', u' gpa all', u' gpa 13s', u' cs 65'], dtype='object')"
      ]
     },
     "execution_count": 9,
     "metadata": {},
     "output_type": "execute_result"
    }
   ],
   "source": [
    "# edGrades_df lists each students cumulated GPA, 2013 Spring term GPA and grades for COSC 065\n",
    "edGrades_df.columns"
   ]
  },
  {
   "cell_type": "code",
   "execution_count": 18,
   "metadata": {
    "collapsed": true
   },
   "outputs": [
    {
     "data": {
      "text/plain": [
       "(30, 4)"
      ]
     },
     "execution_count": 18,
     "metadata": {},
     "output_type": "execute_result"
    }
   ],
   "source": [
    "edGrades_df.shape"
   ]
  },
  {
   "cell_type": "code",
   "execution_count": 19,
   "metadata": {
    "collapsed": true
   },
   "outputs": [
    {
     "data": {
      "text/html": [
       "<div>\n",
       "<table border=\"1\" class=\"dataframe\">\n",
       "  <thead>\n",
       "    <tr style=\"text-align: right;\">\n",
       "      <th></th>\n",
       "      <th>gpa all</th>\n",
       "      <th>gpa 13s</th>\n",
       "      <th>cs 65</th>\n",
       "    </tr>\n",
       "  </thead>\n",
       "  <tbody>\n",
       "    <tr>\n",
       "      <th>count</th>\n",
       "      <td>30.000000</td>\n",
       "      <td>30.000000</td>\n",
       "      <td>30.000000</td>\n",
       "    </tr>\n",
       "    <tr>\n",
       "      <th>mean</th>\n",
       "      <td>3.421533</td>\n",
       "      <td>3.330556</td>\n",
       "      <td>3.622222</td>\n",
       "    </tr>\n",
       "    <tr>\n",
       "      <th>std</th>\n",
       "      <td>0.397754</td>\n",
       "      <td>0.798284</td>\n",
       "      <td>0.796224</td>\n",
       "    </tr>\n",
       "    <tr>\n",
       "      <th>min</th>\n",
       "      <td>2.400000</td>\n",
       "      <td>1.000000</td>\n",
       "      <td>0.000000</td>\n",
       "    </tr>\n",
       "    <tr>\n",
       "      <th>25%</th>\n",
       "      <td>3.257000</td>\n",
       "      <td>3.333333</td>\n",
       "      <td>3.666667</td>\n",
       "    </tr>\n",
       "    <tr>\n",
       "      <th>50%</th>\n",
       "      <td>3.490500</td>\n",
       "      <td>3.527778</td>\n",
       "      <td>4.000000</td>\n",
       "    </tr>\n",
       "    <tr>\n",
       "      <th>75%</th>\n",
       "      <td>3.698500</td>\n",
       "      <td>3.861111</td>\n",
       "      <td>4.000000</td>\n",
       "    </tr>\n",
       "    <tr>\n",
       "      <th>max</th>\n",
       "      <td>3.947000</td>\n",
       "      <td>4.000000</td>\n",
       "      <td>4.000000</td>\n",
       "    </tr>\n",
       "  </tbody>\n",
       "</table>\n",
       "</div>"
      ],
      "text/plain": [
       "         gpa all    gpa 13s      cs 65\n",
       "count  30.000000  30.000000  30.000000\n",
       "mean    3.421533   3.330556   3.622222\n",
       "std     0.397754   0.798284   0.796224\n",
       "min     2.400000   1.000000   0.000000\n",
       "25%     3.257000   3.333333   3.666667\n",
       "50%     3.490500   3.527778   4.000000\n",
       "75%     3.698500   3.861111   4.000000\n",
       "max     3.947000   4.000000   4.000000"
      ]
     },
     "execution_count": 19,
     "metadata": {},
     "output_type": "execute_result"
    }
   ],
   "source": [
    "edGrades_df.describe()"
   ]
  },
  {
   "cell_type": "code",
   "execution_count": 24,
   "metadata": {
    "collapsed": true
   },
   "outputs": [
    {
     "data": {
      "text/html": [
       "<div>\n",
       "<table border=\"1\" class=\"dataframe\">\n",
       "  <thead>\n",
       "    <tr style=\"text-align: right;\">\n",
       "      <th></th>\n",
       "      <th>uid</th>\n",
       "      <th>gpa all</th>\n",
       "      <th>gpa 13s</th>\n",
       "      <th>cs 65</th>\n",
       "    </tr>\n",
       "  </thead>\n",
       "  <tbody>\n",
       "    <tr>\n",
       "      <th>0</th>\n",
       "      <td>u01</td>\n",
       "      <td>2.863</td>\n",
       "      <td>1.777778</td>\n",
       "      <td>3.0</td>\n",
       "    </tr>\n",
       "    <tr>\n",
       "      <th>1</th>\n",
       "      <td>u02</td>\n",
       "      <td>3.505</td>\n",
       "      <td>4.000000</td>\n",
       "      <td>4.0</td>\n",
       "    </tr>\n",
       "    <tr>\n",
       "      <th>2</th>\n",
       "      <td>u04</td>\n",
       "      <td>3.029</td>\n",
       "      <td>3.500000</td>\n",
       "      <td>4.0</td>\n",
       "    </tr>\n",
       "    <tr>\n",
       "      <th>3</th>\n",
       "      <td>u05</td>\n",
       "      <td>3.679</td>\n",
       "      <td>3.777778</td>\n",
       "      <td>4.0</td>\n",
       "    </tr>\n",
       "    <tr>\n",
       "      <th>4</th>\n",
       "      <td>u07</td>\n",
       "      <td>3.474</td>\n",
       "      <td>4.000000</td>\n",
       "      <td>4.0</td>\n",
       "    </tr>\n",
       "  </tbody>\n",
       "</table>\n",
       "</div>"
      ],
      "text/plain": [
       "   uid   gpa all   gpa 13s   cs 65\n",
       "0  u01     2.863  1.777778     3.0\n",
       "1  u02     3.505  4.000000     4.0\n",
       "2  u04     3.029  3.500000     4.0\n",
       "3  u05     3.679  3.777778     4.0\n",
       "4  u07     3.474  4.000000     4.0"
      ]
     },
     "execution_count": 24,
     "metadata": {},
     "output_type": "execute_result"
    }
   ],
   "source": [
    "edGrades_df.head(5)"
   ]
  },
  {
   "cell_type": "code",
   "execution_count": 10,
   "metadata": {
    "collapsed": true
   },
   "outputs": [
    {
     "data": {
      "text/plain": [
       "Index([u'uid', u'days online', u'views', u'contributions', u'questions',\n",
       "       u'notes', u'answers'],\n",
       "      dtype='object')"
      ]
     },
     "execution_count": 10,
     "metadata": {},
     "output_type": "execute_result"
    }
   ],
   "source": [
    "# edPiazza_df contains participants' Piazza (LMS) usage data\n",
    "edPiazza_df.columns"
   ]
  },
  {
   "cell_type": "code",
   "execution_count": 20,
   "metadata": {
    "collapsed": true
   },
   "outputs": [
    {
     "data": {
      "text/plain": [
       "(49, 7)"
      ]
     },
     "execution_count": 20,
     "metadata": {},
     "output_type": "execute_result"
    }
   ],
   "source": [
    "edPiazza_df.shape"
   ]
  },
  {
   "cell_type": "code",
   "execution_count": 21,
   "metadata": {
    "collapsed": true
   },
   "outputs": [
    {
     "data": {
      "text/html": [
       "<div>\n",
       "<table border=\"1\" class=\"dataframe\">\n",
       "  <thead>\n",
       "    <tr style=\"text-align: right;\">\n",
       "      <th></th>\n",
       "      <th>days online</th>\n",
       "      <th>views</th>\n",
       "      <th>contributions</th>\n",
       "      <th>questions</th>\n",
       "      <th>notes</th>\n",
       "      <th>answers</th>\n",
       "    </tr>\n",
       "  </thead>\n",
       "  <tbody>\n",
       "    <tr>\n",
       "      <th>count</th>\n",
       "      <td>49.000000</td>\n",
       "      <td>49.000000</td>\n",
       "      <td>49.000000</td>\n",
       "      <td>49.000000</td>\n",
       "      <td>49.000000</td>\n",
       "      <td>49.000000</td>\n",
       "    </tr>\n",
       "    <tr>\n",
       "      <th>mean</th>\n",
       "      <td>42.489796</td>\n",
       "      <td>210.020408</td>\n",
       "      <td>25.612245</td>\n",
       "      <td>3.244898</td>\n",
       "      <td>3.816327</td>\n",
       "      <td>3.408163</td>\n",
       "    </tr>\n",
       "    <tr>\n",
       "      <th>std</th>\n",
       "      <td>20.181595</td>\n",
       "      <td>97.784732</td>\n",
       "      <td>89.470623</td>\n",
       "      <td>5.080726</td>\n",
       "      <td>16.157652</td>\n",
       "      <td>11.725894</td>\n",
       "    </tr>\n",
       "    <tr>\n",
       "      <th>min</th>\n",
       "      <td>0.000000</td>\n",
       "      <td>0.000000</td>\n",
       "      <td>0.000000</td>\n",
       "      <td>0.000000</td>\n",
       "      <td>0.000000</td>\n",
       "      <td>0.000000</td>\n",
       "    </tr>\n",
       "    <tr>\n",
       "      <th>25%</th>\n",
       "      <td>27.000000</td>\n",
       "      <td>147.000000</td>\n",
       "      <td>1.000000</td>\n",
       "      <td>0.000000</td>\n",
       "      <td>0.000000</td>\n",
       "      <td>0.000000</td>\n",
       "    </tr>\n",
       "    <tr>\n",
       "      <th>50%</th>\n",
       "      <td>43.000000</td>\n",
       "      <td>226.000000</td>\n",
       "      <td>6.000000</td>\n",
       "      <td>1.000000</td>\n",
       "      <td>0.000000</td>\n",
       "      <td>0.000000</td>\n",
       "    </tr>\n",
       "    <tr>\n",
       "      <th>75%</th>\n",
       "      <td>58.000000</td>\n",
       "      <td>299.000000</td>\n",
       "      <td>20.000000</td>\n",
       "      <td>4.000000</td>\n",
       "      <td>1.000000</td>\n",
       "      <td>2.000000</td>\n",
       "    </tr>\n",
       "    <tr>\n",
       "      <th>max</th>\n",
       "      <td>82.000000</td>\n",
       "      <td>399.000000</td>\n",
       "      <td>620.000000</td>\n",
       "      <td>22.000000</td>\n",
       "      <td>93.000000</td>\n",
       "      <td>79.000000</td>\n",
       "    </tr>\n",
       "  </tbody>\n",
       "</table>\n",
       "</div>"
      ],
      "text/plain": [
       "       days online       views  contributions  questions      notes    answers\n",
       "count    49.000000   49.000000      49.000000  49.000000  49.000000  49.000000\n",
       "mean     42.489796  210.020408      25.612245   3.244898   3.816327   3.408163\n",
       "std      20.181595   97.784732      89.470623   5.080726  16.157652  11.725894\n",
       "min       0.000000    0.000000       0.000000   0.000000   0.000000   0.000000\n",
       "25%      27.000000  147.000000       1.000000   0.000000   0.000000   0.000000\n",
       "50%      43.000000  226.000000       6.000000   1.000000   0.000000   0.000000\n",
       "75%      58.000000  299.000000      20.000000   4.000000   1.000000   2.000000\n",
       "max      82.000000  399.000000     620.000000  22.000000  93.000000  79.000000"
      ]
     },
     "execution_count": 21,
     "metadata": {},
     "output_type": "execute_result"
    }
   ],
   "source": [
    "edPiazza_df.describe()"
   ]
  },
  {
   "cell_type": "code",
   "execution_count": 25,
   "metadata": {
    "collapsed": true
   },
   "outputs": [
    {
     "data": {
      "text/html": [
       "<div>\n",
       "<table border=\"1\" class=\"dataframe\">\n",
       "  <thead>\n",
       "    <tr style=\"text-align: right;\">\n",
       "      <th></th>\n",
       "      <th>uid</th>\n",
       "      <th>days online</th>\n",
       "      <th>views</th>\n",
       "      <th>contributions</th>\n",
       "      <th>questions</th>\n",
       "      <th>notes</th>\n",
       "      <th>answers</th>\n",
       "    </tr>\n",
       "  </thead>\n",
       "  <tbody>\n",
       "    <tr>\n",
       "      <th>0</th>\n",
       "      <td>u00</td>\n",
       "      <td>49</td>\n",
       "      <td>162</td>\n",
       "      <td>144</td>\n",
       "      <td>0</td>\n",
       "      <td>67</td>\n",
       "      <td>22</td>\n",
       "    </tr>\n",
       "    <tr>\n",
       "      <th>1</th>\n",
       "      <td>u01</td>\n",
       "      <td>29</td>\n",
       "      <td>299</td>\n",
       "      <td>5</td>\n",
       "      <td>1</td>\n",
       "      <td>1</td>\n",
       "      <td>0</td>\n",
       "    </tr>\n",
       "    <tr>\n",
       "      <th>2</th>\n",
       "      <td>u02</td>\n",
       "      <td>57</td>\n",
       "      <td>299</td>\n",
       "      <td>0</td>\n",
       "      <td>0</td>\n",
       "      <td>0</td>\n",
       "      <td>0</td>\n",
       "    </tr>\n",
       "    <tr>\n",
       "      <th>3</th>\n",
       "      <td>u03</td>\n",
       "      <td>47</td>\n",
       "      <td>262</td>\n",
       "      <td>30</td>\n",
       "      <td>15</td>\n",
       "      <td>2</td>\n",
       "      <td>6</td>\n",
       "    </tr>\n",
       "    <tr>\n",
       "      <th>4</th>\n",
       "      <td>u04</td>\n",
       "      <td>27</td>\n",
       "      <td>101</td>\n",
       "      <td>1</td>\n",
       "      <td>1</td>\n",
       "      <td>0</td>\n",
       "      <td>0</td>\n",
       "    </tr>\n",
       "  </tbody>\n",
       "</table>\n",
       "</div>"
      ],
      "text/plain": [
       "   uid  days online  views  contributions  questions  notes  answers\n",
       "0  u00           49    162            144          0     67       22\n",
       "1  u01           29    299              5          1      1        0\n",
       "2  u02           57    299              0          0      0        0\n",
       "3  u03           47    262             30         15      2        6\n",
       "4  u04           27    101              1          1      0        0"
      ]
     },
     "execution_count": 25,
     "metadata": {},
     "output_type": "execute_result"
    }
   ],
   "source": [
    "edPiazza_df.head(5)"
   ]
  },
  {
   "cell_type": "code",
   "execution_count": 70,
   "metadata": {
    "collapsed": true
   },
   "outputs": [],
   "source": [
    "# Join the Education dataframes into one dataframe\n",
    "ed_df = pd.merge(class_df, edPiazza_df, on='uid')"
   ]
  },
  {
   "cell_type": "code",
   "execution_count": 71,
   "metadata": {
    "collapsed": true
   },
   "outputs": [
    {
     "data": {
      "text/plain": [
       "(49, 52)"
      ]
     },
     "execution_count": 71,
     "metadata": {},
     "output_type": "execute_result"
    }
   ],
   "source": [
    "ed_df.shape"
   ]
  },
  {
   "cell_type": "code",
   "execution_count": 72,
   "metadata": {
    "collapsed": true
   },
   "outputs": [
    {
     "data": {
      "text/html": [
       "<div>\n",
       "<table border=\"1\" class=\"dataframe\">\n",
       "  <thead>\n",
       "    <tr style=\"text-align: right;\">\n",
       "      <th></th>\n",
       "      <th>uid</th>\n",
       "      <th>ANTH 012</th>\n",
       "      <th>ANTH 050</th>\n",
       "      <th>BIOL 004</th>\n",
       "      <th>BIOL 006</th>\n",
       "      <th>CHIN 033</th>\n",
       "      <th>CHIN 062</th>\n",
       "      <th>COSC 007</th>\n",
       "      <th>COSC 020</th>\n",
       "      <th>COSC 027</th>\n",
       "      <th>...</th>\n",
       "      <th>SPAN 002</th>\n",
       "      <th>SPAN 003</th>\n",
       "      <th>TUCK 003</th>\n",
       "      <th>na</th>\n",
       "      <th>days online</th>\n",
       "      <th>views</th>\n",
       "      <th>contributions</th>\n",
       "      <th>questions</th>\n",
       "      <th>notes</th>\n",
       "      <th>answers</th>\n",
       "    </tr>\n",
       "  </thead>\n",
       "  <tbody>\n",
       "    <tr>\n",
       "      <th>0</th>\n",
       "      <td>u00</td>\n",
       "      <td>0.0</td>\n",
       "      <td>0.0</td>\n",
       "      <td>0.0</td>\n",
       "      <td>0.0</td>\n",
       "      <td>0.0</td>\n",
       "      <td>0.0</td>\n",
       "      <td>0.0</td>\n",
       "      <td>0.0</td>\n",
       "      <td>0.0</td>\n",
       "      <td>...</td>\n",
       "      <td>0.0</td>\n",
       "      <td>0.0</td>\n",
       "      <td>0.0</td>\n",
       "      <td>4.0</td>\n",
       "      <td>49</td>\n",
       "      <td>162</td>\n",
       "      <td>144</td>\n",
       "      <td>0</td>\n",
       "      <td>67</td>\n",
       "      <td>22</td>\n",
       "    </tr>\n",
       "    <tr>\n",
       "      <th>1</th>\n",
       "      <td>u01</td>\n",
       "      <td>1.0</td>\n",
       "      <td>0.0</td>\n",
       "      <td>0.0</td>\n",
       "      <td>0.0</td>\n",
       "      <td>0.0</td>\n",
       "      <td>0.0</td>\n",
       "      <td>0.0</td>\n",
       "      <td>0.0</td>\n",
       "      <td>0.0</td>\n",
       "      <td>...</td>\n",
       "      <td>0.0</td>\n",
       "      <td>0.0</td>\n",
       "      <td>0.0</td>\n",
       "      <td>1.0</td>\n",
       "      <td>29</td>\n",
       "      <td>299</td>\n",
       "      <td>5</td>\n",
       "      <td>1</td>\n",
       "      <td>1</td>\n",
       "      <td>0</td>\n",
       "    </tr>\n",
       "    <tr>\n",
       "      <th>2</th>\n",
       "      <td>u02</td>\n",
       "      <td>0.0</td>\n",
       "      <td>0.0</td>\n",
       "      <td>0.0</td>\n",
       "      <td>0.0</td>\n",
       "      <td>0.0</td>\n",
       "      <td>0.0</td>\n",
       "      <td>0.0</td>\n",
       "      <td>0.0</td>\n",
       "      <td>0.0</td>\n",
       "      <td>...</td>\n",
       "      <td>0.0</td>\n",
       "      <td>0.0</td>\n",
       "      <td>0.0</td>\n",
       "      <td>1.0</td>\n",
       "      <td>57</td>\n",
       "      <td>299</td>\n",
       "      <td>0</td>\n",
       "      <td>0</td>\n",
       "      <td>0</td>\n",
       "      <td>0</td>\n",
       "    </tr>\n",
       "    <tr>\n",
       "      <th>3</th>\n",
       "      <td>u03</td>\n",
       "      <td>0.0</td>\n",
       "      <td>0.0</td>\n",
       "      <td>0.0</td>\n",
       "      <td>0.0</td>\n",
       "      <td>0.0</td>\n",
       "      <td>0.0</td>\n",
       "      <td>0.0</td>\n",
       "      <td>0.0</td>\n",
       "      <td>0.0</td>\n",
       "      <td>...</td>\n",
       "      <td>0.0</td>\n",
       "      <td>0.0</td>\n",
       "      <td>0.0</td>\n",
       "      <td>2.0</td>\n",
       "      <td>47</td>\n",
       "      <td>262</td>\n",
       "      <td>30</td>\n",
       "      <td>15</td>\n",
       "      <td>2</td>\n",
       "      <td>6</td>\n",
       "    </tr>\n",
       "    <tr>\n",
       "      <th>4</th>\n",
       "      <td>u04</td>\n",
       "      <td>0.0</td>\n",
       "      <td>0.0</td>\n",
       "      <td>0.0</td>\n",
       "      <td>0.0</td>\n",
       "      <td>0.0</td>\n",
       "      <td>0.0</td>\n",
       "      <td>0.0</td>\n",
       "      <td>0.0</td>\n",
       "      <td>0.0</td>\n",
       "      <td>...</td>\n",
       "      <td>0.0</td>\n",
       "      <td>0.0</td>\n",
       "      <td>0.0</td>\n",
       "      <td>3.0</td>\n",
       "      <td>27</td>\n",
       "      <td>101</td>\n",
       "      <td>1</td>\n",
       "      <td>1</td>\n",
       "      <td>0</td>\n",
       "      <td>0</td>\n",
       "    </tr>\n",
       "  </tbody>\n",
       "</table>\n",
       "<p>5 rows × 52 columns</p>\n",
       "</div>"
      ],
      "text/plain": [
       "   uid  ANTH 012  ANTH 050  BIOL 004  BIOL 006  CHIN 033  CHIN 062  COSC 007  \\\n",
       "0  u00       0.0       0.0       0.0       0.0       0.0       0.0       0.0   \n",
       "1  u01       1.0       0.0       0.0       0.0       0.0       0.0       0.0   \n",
       "2  u02       0.0       0.0       0.0       0.0       0.0       0.0       0.0   \n",
       "3  u03       0.0       0.0       0.0       0.0       0.0       0.0       0.0   \n",
       "4  u04       0.0       0.0       0.0       0.0       0.0       0.0       0.0   \n",
       "\n",
       "   COSC 020  COSC 027   ...     SPAN 002  SPAN 003  TUCK 003   na  \\\n",
       "0       0.0       0.0   ...          0.0       0.0       0.0  4.0   \n",
       "1       0.0       0.0   ...          0.0       0.0       0.0  1.0   \n",
       "2       0.0       0.0   ...          0.0       0.0       0.0  1.0   \n",
       "3       0.0       0.0   ...          0.0       0.0       0.0  2.0   \n",
       "4       0.0       0.0   ...          0.0       0.0       0.0  3.0   \n",
       "\n",
       "   days online  views  contributions  questions  notes  answers  \n",
       "0           49    162            144          0     67       22  \n",
       "1           29    299              5          1      1        0  \n",
       "2           57    299              0          0      0        0  \n",
       "3           47    262             30         15      2        6  \n",
       "4           27    101              1          1      0        0  \n",
       "\n",
       "[5 rows x 52 columns]"
      ]
     },
     "execution_count": 72,
     "metadata": {},
     "output_type": "execute_result"
    }
   ],
   "source": [
    "ed_df.head(5)"
   ]
  },
  {
   "cell_type": "code",
   "execution_count": 73,
   "metadata": {
    "collapsed": true
   },
   "outputs": [],
   "source": [
    "ed_df=pd.merge(ed_df, deadline_df, on='uid')"
   ]
  },
  {
   "cell_type": "code",
   "execution_count": 74,
   "metadata": {
    "collapsed": true
   },
   "outputs": [
    {
     "data": {
      "text/plain": [
       "(44, 123)"
      ]
     },
     "execution_count": 74,
     "metadata": {},
     "output_type": "execute_result"
    }
   ],
   "source": [
    "ed_df.shape"
   ]
  },
  {
   "cell_type": "code",
   "execution_count": 75,
   "metadata": {
    "collapsed": true
   },
   "outputs": [
    {
     "data": {
      "text/html": [
       "<div>\n",
       "<table border=\"1\" class=\"dataframe\">\n",
       "  <thead>\n",
       "    <tr style=\"text-align: right;\">\n",
       "      <th></th>\n",
       "      <th>uid</th>\n",
       "      <th>ANTH 012</th>\n",
       "      <th>ANTH 050</th>\n",
       "      <th>BIOL 004</th>\n",
       "      <th>BIOL 006</th>\n",
       "      <th>CHIN 033</th>\n",
       "      <th>CHIN 062</th>\n",
       "      <th>COSC 007</th>\n",
       "      <th>COSC 020</th>\n",
       "      <th>COSC 027</th>\n",
       "      <th>...</th>\n",
       "      <th>2013-05-27</th>\n",
       "      <th>2013-05-28</th>\n",
       "      <th>2013-05-29</th>\n",
       "      <th>2013-05-30</th>\n",
       "      <th>2013-05-31</th>\n",
       "      <th>2013-06-01</th>\n",
       "      <th>2013-06-02</th>\n",
       "      <th>2013-06-03</th>\n",
       "      <th>2013-06-04</th>\n",
       "      <th>2013-06-05</th>\n",
       "    </tr>\n",
       "  </thead>\n",
       "  <tbody>\n",
       "    <tr>\n",
       "      <th>0</th>\n",
       "      <td>u01</td>\n",
       "      <td>1.0</td>\n",
       "      <td>0.0</td>\n",
       "      <td>0.0</td>\n",
       "      <td>0.0</td>\n",
       "      <td>0.0</td>\n",
       "      <td>0.0</td>\n",
       "      <td>0.0</td>\n",
       "      <td>0.0</td>\n",
       "      <td>0.0</td>\n",
       "      <td>...</td>\n",
       "      <td>0</td>\n",
       "      <td>0</td>\n",
       "      <td>1</td>\n",
       "      <td>0</td>\n",
       "      <td>0</td>\n",
       "      <td>0</td>\n",
       "      <td>0</td>\n",
       "      <td>0</td>\n",
       "      <td>1</td>\n",
       "      <td>1</td>\n",
       "    </tr>\n",
       "    <tr>\n",
       "      <th>1</th>\n",
       "      <td>u02</td>\n",
       "      <td>0.0</td>\n",
       "      <td>0.0</td>\n",
       "      <td>0.0</td>\n",
       "      <td>0.0</td>\n",
       "      <td>0.0</td>\n",
       "      <td>0.0</td>\n",
       "      <td>0.0</td>\n",
       "      <td>0.0</td>\n",
       "      <td>0.0</td>\n",
       "      <td>...</td>\n",
       "      <td>0</td>\n",
       "      <td>1</td>\n",
       "      <td>1</td>\n",
       "      <td>0</td>\n",
       "      <td>0</td>\n",
       "      <td>0</td>\n",
       "      <td>0</td>\n",
       "      <td>0</td>\n",
       "      <td>0</td>\n",
       "      <td>0</td>\n",
       "    </tr>\n",
       "    <tr>\n",
       "      <th>2</th>\n",
       "      <td>u03</td>\n",
       "      <td>0.0</td>\n",
       "      <td>0.0</td>\n",
       "      <td>0.0</td>\n",
       "      <td>0.0</td>\n",
       "      <td>0.0</td>\n",
       "      <td>0.0</td>\n",
       "      <td>0.0</td>\n",
       "      <td>0.0</td>\n",
       "      <td>0.0</td>\n",
       "      <td>...</td>\n",
       "      <td>0</td>\n",
       "      <td>0</td>\n",
       "      <td>2</td>\n",
       "      <td>0</td>\n",
       "      <td>0</td>\n",
       "      <td>0</td>\n",
       "      <td>0</td>\n",
       "      <td>0</td>\n",
       "      <td>0</td>\n",
       "      <td>0</td>\n",
       "    </tr>\n",
       "    <tr>\n",
       "      <th>3</th>\n",
       "      <td>u04</td>\n",
       "      <td>0.0</td>\n",
       "      <td>0.0</td>\n",
       "      <td>0.0</td>\n",
       "      <td>0.0</td>\n",
       "      <td>0.0</td>\n",
       "      <td>0.0</td>\n",
       "      <td>0.0</td>\n",
       "      <td>0.0</td>\n",
       "      <td>0.0</td>\n",
       "      <td>...</td>\n",
       "      <td>0</td>\n",
       "      <td>0</td>\n",
       "      <td>1</td>\n",
       "      <td>0</td>\n",
       "      <td>0</td>\n",
       "      <td>0</td>\n",
       "      <td>0</td>\n",
       "      <td>0</td>\n",
       "      <td>0</td>\n",
       "      <td>0</td>\n",
       "    </tr>\n",
       "    <tr>\n",
       "      <th>4</th>\n",
       "      <td>u05</td>\n",
       "      <td>0.0</td>\n",
       "      <td>0.0</td>\n",
       "      <td>0.0</td>\n",
       "      <td>0.0</td>\n",
       "      <td>0.0</td>\n",
       "      <td>0.0</td>\n",
       "      <td>0.0</td>\n",
       "      <td>0.0</td>\n",
       "      <td>0.0</td>\n",
       "      <td>...</td>\n",
       "      <td>0</td>\n",
       "      <td>1</td>\n",
       "      <td>1</td>\n",
       "      <td>0</td>\n",
       "      <td>1</td>\n",
       "      <td>0</td>\n",
       "      <td>0</td>\n",
       "      <td>0</td>\n",
       "      <td>0</td>\n",
       "      <td>0</td>\n",
       "    </tr>\n",
       "  </tbody>\n",
       "</table>\n",
       "<p>5 rows × 123 columns</p>\n",
       "</div>"
      ],
      "text/plain": [
       "   uid  ANTH 012  ANTH 050  BIOL 004  BIOL 006  CHIN 033  CHIN 062  COSC 007  \\\n",
       "0  u01       1.0       0.0       0.0       0.0       0.0       0.0       0.0   \n",
       "1  u02       0.0       0.0       0.0       0.0       0.0       0.0       0.0   \n",
       "2  u03       0.0       0.0       0.0       0.0       0.0       0.0       0.0   \n",
       "3  u04       0.0       0.0       0.0       0.0       0.0       0.0       0.0   \n",
       "4  u05       0.0       0.0       0.0       0.0       0.0       0.0       0.0   \n",
       "\n",
       "   COSC 020  COSC 027     ...      2013-05-27  2013-05-28  2013-05-29  \\\n",
       "0       0.0       0.0     ...               0           0           1   \n",
       "1       0.0       0.0     ...               0           1           1   \n",
       "2       0.0       0.0     ...               0           0           2   \n",
       "3       0.0       0.0     ...               0           0           1   \n",
       "4       0.0       0.0     ...               0           1           1   \n",
       "\n",
       "   2013-05-30  2013-05-31  2013-06-01  2013-06-02  2013-06-03  2013-06-04  \\\n",
       "0           0           0           0           0           0           1   \n",
       "1           0           0           0           0           0           0   \n",
       "2           0           0           0           0           0           0   \n",
       "3           0           0           0           0           0           0   \n",
       "4           0           1           0           0           0           0   \n",
       "\n",
       "   2013-06-05  \n",
       "0           1  \n",
       "1           0  \n",
       "2           0  \n",
       "3           0  \n",
       "4           0  \n",
       "\n",
       "[5 rows x 123 columns]"
      ]
     },
     "execution_count": 75,
     "metadata": {},
     "output_type": "execute_result"
    }
   ],
   "source": [
    "ed_df.head(5)"
   ]
  },
  {
   "cell_type": "code",
   "execution_count": 76,
   "metadata": {
    "collapsed": true
   },
   "outputs": [],
   "source": [
    "ed_df=pd.merge(ed_df, edGrades_df, on='uid')"
   ]
  },
  {
   "cell_type": "code",
   "execution_count": 77,
   "metadata": {
    "collapsed": true
   },
   "outputs": [
    {
     "data": {
      "text/plain": [
       "(29, 126)"
      ]
     },
     "execution_count": 77,
     "metadata": {},
     "output_type": "execute_result"
    }
   ],
   "source": [
    "ed_df.shape"
   ]
  },
  {
   "cell_type": "code",
   "execution_count": 78,
   "metadata": {
    "collapsed": true
   },
   "outputs": [
    {
     "data": {
      "text/html": [
       "<div>\n",
       "<table border=\"1\" class=\"dataframe\">\n",
       "  <thead>\n",
       "    <tr style=\"text-align: right;\">\n",
       "      <th></th>\n",
       "      <th>uid</th>\n",
       "      <th>ANTH 012</th>\n",
       "      <th>ANTH 050</th>\n",
       "      <th>BIOL 004</th>\n",
       "      <th>BIOL 006</th>\n",
       "      <th>CHIN 033</th>\n",
       "      <th>CHIN 062</th>\n",
       "      <th>COSC 007</th>\n",
       "      <th>COSC 020</th>\n",
       "      <th>COSC 027</th>\n",
       "      <th>...</th>\n",
       "      <th>2013-05-30</th>\n",
       "      <th>2013-05-31</th>\n",
       "      <th>2013-06-01</th>\n",
       "      <th>2013-06-02</th>\n",
       "      <th>2013-06-03</th>\n",
       "      <th>2013-06-04</th>\n",
       "      <th>2013-06-05</th>\n",
       "      <th>gpa all</th>\n",
       "      <th>gpa 13s</th>\n",
       "      <th>cs 65</th>\n",
       "    </tr>\n",
       "  </thead>\n",
       "  <tbody>\n",
       "    <tr>\n",
       "      <th>0</th>\n",
       "      <td>u01</td>\n",
       "      <td>1.0</td>\n",
       "      <td>0.0</td>\n",
       "      <td>0.0</td>\n",
       "      <td>0.0</td>\n",
       "      <td>0.0</td>\n",
       "      <td>0.0</td>\n",
       "      <td>0.0</td>\n",
       "      <td>0.0</td>\n",
       "      <td>0.0</td>\n",
       "      <td>...</td>\n",
       "      <td>0</td>\n",
       "      <td>0</td>\n",
       "      <td>0</td>\n",
       "      <td>0</td>\n",
       "      <td>0</td>\n",
       "      <td>1</td>\n",
       "      <td>1</td>\n",
       "      <td>2.863</td>\n",
       "      <td>1.777778</td>\n",
       "      <td>3.0</td>\n",
       "    </tr>\n",
       "    <tr>\n",
       "      <th>1</th>\n",
       "      <td>u02</td>\n",
       "      <td>0.0</td>\n",
       "      <td>0.0</td>\n",
       "      <td>0.0</td>\n",
       "      <td>0.0</td>\n",
       "      <td>0.0</td>\n",
       "      <td>0.0</td>\n",
       "      <td>0.0</td>\n",
       "      <td>0.0</td>\n",
       "      <td>0.0</td>\n",
       "      <td>...</td>\n",
       "      <td>0</td>\n",
       "      <td>0</td>\n",
       "      <td>0</td>\n",
       "      <td>0</td>\n",
       "      <td>0</td>\n",
       "      <td>0</td>\n",
       "      <td>0</td>\n",
       "      <td>3.505</td>\n",
       "      <td>4.000000</td>\n",
       "      <td>4.0</td>\n",
       "    </tr>\n",
       "    <tr>\n",
       "      <th>2</th>\n",
       "      <td>u04</td>\n",
       "      <td>0.0</td>\n",
       "      <td>0.0</td>\n",
       "      <td>0.0</td>\n",
       "      <td>0.0</td>\n",
       "      <td>0.0</td>\n",
       "      <td>0.0</td>\n",
       "      <td>0.0</td>\n",
       "      <td>0.0</td>\n",
       "      <td>0.0</td>\n",
       "      <td>...</td>\n",
       "      <td>0</td>\n",
       "      <td>0</td>\n",
       "      <td>0</td>\n",
       "      <td>0</td>\n",
       "      <td>0</td>\n",
       "      <td>0</td>\n",
       "      <td>0</td>\n",
       "      <td>3.029</td>\n",
       "      <td>3.500000</td>\n",
       "      <td>4.0</td>\n",
       "    </tr>\n",
       "    <tr>\n",
       "      <th>3</th>\n",
       "      <td>u05</td>\n",
       "      <td>0.0</td>\n",
       "      <td>0.0</td>\n",
       "      <td>0.0</td>\n",
       "      <td>0.0</td>\n",
       "      <td>0.0</td>\n",
       "      <td>0.0</td>\n",
       "      <td>0.0</td>\n",
       "      <td>0.0</td>\n",
       "      <td>0.0</td>\n",
       "      <td>...</td>\n",
       "      <td>0</td>\n",
       "      <td>1</td>\n",
       "      <td>0</td>\n",
       "      <td>0</td>\n",
       "      <td>0</td>\n",
       "      <td>0</td>\n",
       "      <td>0</td>\n",
       "      <td>3.679</td>\n",
       "      <td>3.777778</td>\n",
       "      <td>4.0</td>\n",
       "    </tr>\n",
       "    <tr>\n",
       "      <th>4</th>\n",
       "      <td>u07</td>\n",
       "      <td>0.0</td>\n",
       "      <td>0.0</td>\n",
       "      <td>0.0</td>\n",
       "      <td>0.0</td>\n",
       "      <td>0.0</td>\n",
       "      <td>0.0</td>\n",
       "      <td>0.0</td>\n",
       "      <td>0.0</td>\n",
       "      <td>0.0</td>\n",
       "      <td>...</td>\n",
       "      <td>0</td>\n",
       "      <td>0</td>\n",
       "      <td>0</td>\n",
       "      <td>0</td>\n",
       "      <td>0</td>\n",
       "      <td>0</td>\n",
       "      <td>0</td>\n",
       "      <td>3.474</td>\n",
       "      <td>4.000000</td>\n",
       "      <td>4.0</td>\n",
       "    </tr>\n",
       "  </tbody>\n",
       "</table>\n",
       "<p>5 rows × 126 columns</p>\n",
       "</div>"
      ],
      "text/plain": [
       "   uid  ANTH 012  ANTH 050  BIOL 004  BIOL 006  CHIN 033  CHIN 062  COSC 007  \\\n",
       "0  u01       1.0       0.0       0.0       0.0       0.0       0.0       0.0   \n",
       "1  u02       0.0       0.0       0.0       0.0       0.0       0.0       0.0   \n",
       "2  u04       0.0       0.0       0.0       0.0       0.0       0.0       0.0   \n",
       "3  u05       0.0       0.0       0.0       0.0       0.0       0.0       0.0   \n",
       "4  u07       0.0       0.0       0.0       0.0       0.0       0.0       0.0   \n",
       "\n",
       "   COSC 020  COSC 027   ...    2013-05-30  2013-05-31  2013-06-01  2013-06-02  \\\n",
       "0       0.0       0.0   ...             0           0           0           0   \n",
       "1       0.0       0.0   ...             0           0           0           0   \n",
       "2       0.0       0.0   ...             0           0           0           0   \n",
       "3       0.0       0.0   ...             0           1           0           0   \n",
       "4       0.0       0.0   ...             0           0           0           0   \n",
       "\n",
       "   2013-06-03  2013-06-04  2013-06-05   gpa all   gpa 13s   cs 65  \n",
       "0           0           1           1     2.863  1.777778     3.0  \n",
       "1           0           0           0     3.505  4.000000     4.0  \n",
       "2           0           0           0     3.029  3.500000     4.0  \n",
       "3           0           0           0     3.679  3.777778     4.0  \n",
       "4           0           0           0     3.474  4.000000     4.0  \n",
       "\n",
       "[5 rows x 126 columns]"
      ]
     },
     "execution_count": 78,
     "metadata": {},
     "output_type": "execute_result"
    }
   ],
   "source": [
    "ed_df.head(5)"
   ]
  },
  {
   "cell_type": "code",
   "execution_count": 79,
   "metadata": {
    "collapsed": true
   },
   "outputs": [
    {
     "data": {
      "text/html": [
       "<div>\n",
       "<table border=\"1\" class=\"dataframe\">\n",
       "  <thead>\n",
       "    <tr style=\"text-align: right;\">\n",
       "      <th></th>\n",
       "      <th>ANTH 012</th>\n",
       "      <th>ANTH 050</th>\n",
       "      <th>BIOL 004</th>\n",
       "      <th>BIOL 006</th>\n",
       "      <th>CHIN 033</th>\n",
       "      <th>CHIN 062</th>\n",
       "      <th>COSC 007</th>\n",
       "      <th>COSC 020</th>\n",
       "      <th>COSC 027</th>\n",
       "      <th>COSC 050</th>\n",
       "      <th>...</th>\n",
       "      <th>2013-05-30</th>\n",
       "      <th>2013-05-31</th>\n",
       "      <th>2013-06-01</th>\n",
       "      <th>2013-06-02</th>\n",
       "      <th>2013-06-03</th>\n",
       "      <th>2013-06-04</th>\n",
       "      <th>2013-06-05</th>\n",
       "      <th>gpa all</th>\n",
       "      <th>gpa 13s</th>\n",
       "      <th>cs 65</th>\n",
       "    </tr>\n",
       "  </thead>\n",
       "  <tbody>\n",
       "    <tr>\n",
       "      <th>count</th>\n",
       "      <td>29.000000</td>\n",
       "      <td>29.000000</td>\n",
       "      <td>29.000000</td>\n",
       "      <td>29.000000</td>\n",
       "      <td>29.000000</td>\n",
       "      <td>29.000000</td>\n",
       "      <td>29.000000</td>\n",
       "      <td>29.000000</td>\n",
       "      <td>29.000000</td>\n",
       "      <td>29.000000</td>\n",
       "      <td>...</td>\n",
       "      <td>29.000000</td>\n",
       "      <td>29.000000</td>\n",
       "      <td>29.000000</td>\n",
       "      <td>29.0</td>\n",
       "      <td>29.000000</td>\n",
       "      <td>29.000000</td>\n",
       "      <td>29.000000</td>\n",
       "      <td>29.000000</td>\n",
       "      <td>29.000000</td>\n",
       "      <td>29.000000</td>\n",
       "    </tr>\n",
       "    <tr>\n",
       "      <th>mean</th>\n",
       "      <td>0.034483</td>\n",
       "      <td>0.034483</td>\n",
       "      <td>0.034483</td>\n",
       "      <td>0.034483</td>\n",
       "      <td>0.034483</td>\n",
       "      <td>0.034483</td>\n",
       "      <td>0.034483</td>\n",
       "      <td>0.034483</td>\n",
       "      <td>0.068966</td>\n",
       "      <td>0.310345</td>\n",
       "      <td>...</td>\n",
       "      <td>0.068966</td>\n",
       "      <td>0.172414</td>\n",
       "      <td>0.241379</td>\n",
       "      <td>0.0</td>\n",
       "      <td>0.137931</td>\n",
       "      <td>0.068966</td>\n",
       "      <td>0.034483</td>\n",
       "      <td>3.408828</td>\n",
       "      <td>3.307471</td>\n",
       "      <td>3.609195</td>\n",
       "    </tr>\n",
       "    <tr>\n",
       "      <th>std</th>\n",
       "      <td>0.185695</td>\n",
       "      <td>0.185695</td>\n",
       "      <td>0.185695</td>\n",
       "      <td>0.185695</td>\n",
       "      <td>0.185695</td>\n",
       "      <td>0.185695</td>\n",
       "      <td>0.185695</td>\n",
       "      <td>0.185695</td>\n",
       "      <td>0.257881</td>\n",
       "      <td>0.470824</td>\n",
       "      <td>...</td>\n",
       "      <td>0.257881</td>\n",
       "      <td>0.384426</td>\n",
       "      <td>0.435494</td>\n",
       "      <td>0.0</td>\n",
       "      <td>0.350931</td>\n",
       "      <td>0.257881</td>\n",
       "      <td>0.185695</td>\n",
       "      <td>0.398550</td>\n",
       "      <td>0.802159</td>\n",
       "      <td>0.807057</td>\n",
       "    </tr>\n",
       "    <tr>\n",
       "      <th>min</th>\n",
       "      <td>0.000000</td>\n",
       "      <td>0.000000</td>\n",
       "      <td>0.000000</td>\n",
       "      <td>0.000000</td>\n",
       "      <td>0.000000</td>\n",
       "      <td>0.000000</td>\n",
       "      <td>0.000000</td>\n",
       "      <td>0.000000</td>\n",
       "      <td>0.000000</td>\n",
       "      <td>0.000000</td>\n",
       "      <td>...</td>\n",
       "      <td>0.000000</td>\n",
       "      <td>0.000000</td>\n",
       "      <td>0.000000</td>\n",
       "      <td>0.0</td>\n",
       "      <td>0.000000</td>\n",
       "      <td>0.000000</td>\n",
       "      <td>0.000000</td>\n",
       "      <td>2.400000</td>\n",
       "      <td>1.000000</td>\n",
       "      <td>0.000000</td>\n",
       "    </tr>\n",
       "    <tr>\n",
       "      <th>25%</th>\n",
       "      <td>0.000000</td>\n",
       "      <td>0.000000</td>\n",
       "      <td>0.000000</td>\n",
       "      <td>0.000000</td>\n",
       "      <td>0.000000</td>\n",
       "      <td>0.000000</td>\n",
       "      <td>0.000000</td>\n",
       "      <td>0.000000</td>\n",
       "      <td>0.000000</td>\n",
       "      <td>0.000000</td>\n",
       "      <td>...</td>\n",
       "      <td>0.000000</td>\n",
       "      <td>0.000000</td>\n",
       "      <td>0.000000</td>\n",
       "      <td>0.0</td>\n",
       "      <td>0.000000</td>\n",
       "      <td>0.000000</td>\n",
       "      <td>0.000000</td>\n",
       "      <td>3.245000</td>\n",
       "      <td>3.333333</td>\n",
       "      <td>3.666667</td>\n",
       "    </tr>\n",
       "    <tr>\n",
       "      <th>50%</th>\n",
       "      <td>0.000000</td>\n",
       "      <td>0.000000</td>\n",
       "      <td>0.000000</td>\n",
       "      <td>0.000000</td>\n",
       "      <td>0.000000</td>\n",
       "      <td>0.000000</td>\n",
       "      <td>0.000000</td>\n",
       "      <td>0.000000</td>\n",
       "      <td>0.000000</td>\n",
       "      <td>0.000000</td>\n",
       "      <td>...</td>\n",
       "      <td>0.000000</td>\n",
       "      <td>0.000000</td>\n",
       "      <td>0.000000</td>\n",
       "      <td>0.0</td>\n",
       "      <td>0.000000</td>\n",
       "      <td>0.000000</td>\n",
       "      <td>0.000000</td>\n",
       "      <td>3.476000</td>\n",
       "      <td>3.500000</td>\n",
       "      <td>4.000000</td>\n",
       "    </tr>\n",
       "    <tr>\n",
       "      <th>75%</th>\n",
       "      <td>0.000000</td>\n",
       "      <td>0.000000</td>\n",
       "      <td>0.000000</td>\n",
       "      <td>0.000000</td>\n",
       "      <td>0.000000</td>\n",
       "      <td>0.000000</td>\n",
       "      <td>0.000000</td>\n",
       "      <td>0.000000</td>\n",
       "      <td>0.000000</td>\n",
       "      <td>1.000000</td>\n",
       "      <td>...</td>\n",
       "      <td>0.000000</td>\n",
       "      <td>0.000000</td>\n",
       "      <td>0.000000</td>\n",
       "      <td>0.0</td>\n",
       "      <td>0.000000</td>\n",
       "      <td>0.000000</td>\n",
       "      <td>0.000000</td>\n",
       "      <td>3.679000</td>\n",
       "      <td>3.777778</td>\n",
       "      <td>4.000000</td>\n",
       "    </tr>\n",
       "    <tr>\n",
       "      <th>max</th>\n",
       "      <td>1.000000</td>\n",
       "      <td>1.000000</td>\n",
       "      <td>1.000000</td>\n",
       "      <td>1.000000</td>\n",
       "      <td>1.000000</td>\n",
       "      <td>1.000000</td>\n",
       "      <td>1.000000</td>\n",
       "      <td>1.000000</td>\n",
       "      <td>1.000000</td>\n",
       "      <td>1.000000</td>\n",
       "      <td>...</td>\n",
       "      <td>1.000000</td>\n",
       "      <td>1.000000</td>\n",
       "      <td>1.000000</td>\n",
       "      <td>0.0</td>\n",
       "      <td>1.000000</td>\n",
       "      <td>1.000000</td>\n",
       "      <td>1.000000</td>\n",
       "      <td>3.947000</td>\n",
       "      <td>4.000000</td>\n",
       "      <td>4.000000</td>\n",
       "    </tr>\n",
       "  </tbody>\n",
       "</table>\n",
       "<p>8 rows × 125 columns</p>\n",
       "</div>"
      ],
      "text/plain": [
       "        ANTH 012   ANTH 050   BIOL 004   BIOL 006   CHIN 033   CHIN 062  \\\n",
       "count  29.000000  29.000000  29.000000  29.000000  29.000000  29.000000   \n",
       "mean    0.034483   0.034483   0.034483   0.034483   0.034483   0.034483   \n",
       "std     0.185695   0.185695   0.185695   0.185695   0.185695   0.185695   \n",
       "min     0.000000   0.000000   0.000000   0.000000   0.000000   0.000000   \n",
       "25%     0.000000   0.000000   0.000000   0.000000   0.000000   0.000000   \n",
       "50%     0.000000   0.000000   0.000000   0.000000   0.000000   0.000000   \n",
       "75%     0.000000   0.000000   0.000000   0.000000   0.000000   0.000000   \n",
       "max     1.000000   1.000000   1.000000   1.000000   1.000000   1.000000   \n",
       "\n",
       "        COSC 007   COSC 020   COSC 027   COSC 050    ...      2013-05-30  \\\n",
       "count  29.000000  29.000000  29.000000  29.000000    ...       29.000000   \n",
       "mean    0.034483   0.034483   0.068966   0.310345    ...        0.068966   \n",
       "std     0.185695   0.185695   0.257881   0.470824    ...        0.257881   \n",
       "min     0.000000   0.000000   0.000000   0.000000    ...        0.000000   \n",
       "25%     0.000000   0.000000   0.000000   0.000000    ...        0.000000   \n",
       "50%     0.000000   0.000000   0.000000   0.000000    ...        0.000000   \n",
       "75%     0.000000   0.000000   0.000000   1.000000    ...        0.000000   \n",
       "max     1.000000   1.000000   1.000000   1.000000    ...        1.000000   \n",
       "\n",
       "       2013-05-31  2013-06-01  2013-06-02  2013-06-03  2013-06-04  2013-06-05  \\\n",
       "count   29.000000   29.000000        29.0   29.000000   29.000000   29.000000   \n",
       "mean     0.172414    0.241379         0.0    0.137931    0.068966    0.034483   \n",
       "std      0.384426    0.435494         0.0    0.350931    0.257881    0.185695   \n",
       "min      0.000000    0.000000         0.0    0.000000    0.000000    0.000000   \n",
       "25%      0.000000    0.000000         0.0    0.000000    0.000000    0.000000   \n",
       "50%      0.000000    0.000000         0.0    0.000000    0.000000    0.000000   \n",
       "75%      0.000000    0.000000         0.0    0.000000    0.000000    0.000000   \n",
       "max      1.000000    1.000000         0.0    1.000000    1.000000    1.000000   \n",
       "\n",
       "         gpa all    gpa 13s      cs 65  \n",
       "count  29.000000  29.000000  29.000000  \n",
       "mean    3.408828   3.307471   3.609195  \n",
       "std     0.398550   0.802159   0.807057  \n",
       "min     2.400000   1.000000   0.000000  \n",
       "25%     3.245000   3.333333   3.666667  \n",
       "50%     3.476000   3.500000   4.000000  \n",
       "75%     3.679000   3.777778   4.000000  \n",
       "max     3.947000   4.000000   4.000000  \n",
       "\n",
       "[8 rows x 125 columns]"
      ]
     },
     "execution_count": 79,
     "metadata": {},
     "output_type": "execute_result"
    }
   ],
   "source": [
    "ed_df.describe()"
   ]
  },
  {
   "cell_type": "markdown",
   "metadata": {},
   "source": [
    "### Create GPA Predictive Model"
   ]
  },
  {
   "cell_type": "code",
   "execution_count": 81,
   "metadata": {
    "collapsed": true
   },
   "outputs": [],
   "source": [
    "# Drop uid column\n",
    "ed_df.drop('uid', axis=1, inplace=True)"
   ]
  },
  {
   "cell_type": "code",
   "execution_count": 84,
   "metadata": {
    "collapsed": true
   },
   "outputs": [],
   "source": [
    "# Get x and y\n",
    "X = ed_df.drop(' gpa all', axis=1)\n",
    "y = ed_df.pop(' gpa all')"
   ]
  },
  {
   "cell_type": "code",
   "execution_count": 85,
   "metadata": {
    "collapsed": false
   },
   "outputs": [
    {
     "data": {
      "text/plain": [
       "count    29.000000\n",
       "mean      3.408828\n",
       "std       0.398550\n",
       "min       2.400000\n",
       "25%       3.245000\n",
       "50%       3.476000\n",
       "75%       3.679000\n",
       "max       3.947000\n",
       "Name:  gpa all, dtype: float64"
      ]
     },
     "execution_count": 85,
     "metadata": {},
     "output_type": "execute_result"
    }
   ],
   "source": [
    "y.describe()"
   ]
  },
  {
   "cell_type": "code",
   "execution_count": 86,
   "metadata": {
    "collapsed": true
   },
   "outputs": [
    {
     "data": {
      "text/html": [
       "<div>\n",
       "<table border=\"1\" class=\"dataframe\">\n",
       "  <thead>\n",
       "    <tr style=\"text-align: right;\">\n",
       "      <th></th>\n",
       "      <th>ANTH 012</th>\n",
       "      <th>ANTH 050</th>\n",
       "      <th>BIOL 004</th>\n",
       "      <th>BIOL 006</th>\n",
       "      <th>CHIN 033</th>\n",
       "      <th>CHIN 062</th>\n",
       "      <th>COSC 007</th>\n",
       "      <th>COSC 020</th>\n",
       "      <th>COSC 027</th>\n",
       "      <th>COSC 050</th>\n",
       "      <th>...</th>\n",
       "      <th>2013-05-29</th>\n",
       "      <th>2013-05-30</th>\n",
       "      <th>2013-05-31</th>\n",
       "      <th>2013-06-01</th>\n",
       "      <th>2013-06-02</th>\n",
       "      <th>2013-06-03</th>\n",
       "      <th>2013-06-04</th>\n",
       "      <th>2013-06-05</th>\n",
       "      <th>gpa 13s</th>\n",
       "      <th>cs 65</th>\n",
       "    </tr>\n",
       "  </thead>\n",
       "  <tbody>\n",
       "    <tr>\n",
       "      <th>count</th>\n",
       "      <td>29.000000</td>\n",
       "      <td>29.000000</td>\n",
       "      <td>29.000000</td>\n",
       "      <td>29.000000</td>\n",
       "      <td>29.000000</td>\n",
       "      <td>29.000000</td>\n",
       "      <td>29.000000</td>\n",
       "      <td>29.000000</td>\n",
       "      <td>29.000000</td>\n",
       "      <td>29.000000</td>\n",
       "      <td>...</td>\n",
       "      <td>29.000000</td>\n",
       "      <td>29.000000</td>\n",
       "      <td>29.000000</td>\n",
       "      <td>29.000000</td>\n",
       "      <td>29.0</td>\n",
       "      <td>29.000000</td>\n",
       "      <td>29.000000</td>\n",
       "      <td>29.000000</td>\n",
       "      <td>29.000000</td>\n",
       "      <td>29.000000</td>\n",
       "    </tr>\n",
       "    <tr>\n",
       "      <th>mean</th>\n",
       "      <td>0.034483</td>\n",
       "      <td>0.034483</td>\n",
       "      <td>0.034483</td>\n",
       "      <td>0.034483</td>\n",
       "      <td>0.034483</td>\n",
       "      <td>0.034483</td>\n",
       "      <td>0.034483</td>\n",
       "      <td>0.034483</td>\n",
       "      <td>0.068966</td>\n",
       "      <td>0.310345</td>\n",
       "      <td>...</td>\n",
       "      <td>1.413793</td>\n",
       "      <td>0.068966</td>\n",
       "      <td>0.172414</td>\n",
       "      <td>0.241379</td>\n",
       "      <td>0.0</td>\n",
       "      <td>0.137931</td>\n",
       "      <td>0.068966</td>\n",
       "      <td>0.034483</td>\n",
       "      <td>3.307471</td>\n",
       "      <td>3.609195</td>\n",
       "    </tr>\n",
       "    <tr>\n",
       "      <th>std</th>\n",
       "      <td>0.185695</td>\n",
       "      <td>0.185695</td>\n",
       "      <td>0.185695</td>\n",
       "      <td>0.185695</td>\n",
       "      <td>0.185695</td>\n",
       "      <td>0.185695</td>\n",
       "      <td>0.185695</td>\n",
       "      <td>0.185695</td>\n",
       "      <td>0.257881</td>\n",
       "      <td>0.470824</td>\n",
       "      <td>...</td>\n",
       "      <td>0.568032</td>\n",
       "      <td>0.257881</td>\n",
       "      <td>0.384426</td>\n",
       "      <td>0.435494</td>\n",
       "      <td>0.0</td>\n",
       "      <td>0.350931</td>\n",
       "      <td>0.257881</td>\n",
       "      <td>0.185695</td>\n",
       "      <td>0.802159</td>\n",
       "      <td>0.807057</td>\n",
       "    </tr>\n",
       "    <tr>\n",
       "      <th>min</th>\n",
       "      <td>0.000000</td>\n",
       "      <td>0.000000</td>\n",
       "      <td>0.000000</td>\n",
       "      <td>0.000000</td>\n",
       "      <td>0.000000</td>\n",
       "      <td>0.000000</td>\n",
       "      <td>0.000000</td>\n",
       "      <td>0.000000</td>\n",
       "      <td>0.000000</td>\n",
       "      <td>0.000000</td>\n",
       "      <td>...</td>\n",
       "      <td>1.000000</td>\n",
       "      <td>0.000000</td>\n",
       "      <td>0.000000</td>\n",
       "      <td>0.000000</td>\n",
       "      <td>0.0</td>\n",
       "      <td>0.000000</td>\n",
       "      <td>0.000000</td>\n",
       "      <td>0.000000</td>\n",
       "      <td>1.000000</td>\n",
       "      <td>0.000000</td>\n",
       "    </tr>\n",
       "    <tr>\n",
       "      <th>25%</th>\n",
       "      <td>0.000000</td>\n",
       "      <td>0.000000</td>\n",
       "      <td>0.000000</td>\n",
       "      <td>0.000000</td>\n",
       "      <td>0.000000</td>\n",
       "      <td>0.000000</td>\n",
       "      <td>0.000000</td>\n",
       "      <td>0.000000</td>\n",
       "      <td>0.000000</td>\n",
       "      <td>0.000000</td>\n",
       "      <td>...</td>\n",
       "      <td>1.000000</td>\n",
       "      <td>0.000000</td>\n",
       "      <td>0.000000</td>\n",
       "      <td>0.000000</td>\n",
       "      <td>0.0</td>\n",
       "      <td>0.000000</td>\n",
       "      <td>0.000000</td>\n",
       "      <td>0.000000</td>\n",
       "      <td>3.333333</td>\n",
       "      <td>3.666667</td>\n",
       "    </tr>\n",
       "    <tr>\n",
       "      <th>50%</th>\n",
       "      <td>0.000000</td>\n",
       "      <td>0.000000</td>\n",
       "      <td>0.000000</td>\n",
       "      <td>0.000000</td>\n",
       "      <td>0.000000</td>\n",
       "      <td>0.000000</td>\n",
       "      <td>0.000000</td>\n",
       "      <td>0.000000</td>\n",
       "      <td>0.000000</td>\n",
       "      <td>0.000000</td>\n",
       "      <td>...</td>\n",
       "      <td>1.000000</td>\n",
       "      <td>0.000000</td>\n",
       "      <td>0.000000</td>\n",
       "      <td>0.000000</td>\n",
       "      <td>0.0</td>\n",
       "      <td>0.000000</td>\n",
       "      <td>0.000000</td>\n",
       "      <td>0.000000</td>\n",
       "      <td>3.500000</td>\n",
       "      <td>4.000000</td>\n",
       "    </tr>\n",
       "    <tr>\n",
       "      <th>75%</th>\n",
       "      <td>0.000000</td>\n",
       "      <td>0.000000</td>\n",
       "      <td>0.000000</td>\n",
       "      <td>0.000000</td>\n",
       "      <td>0.000000</td>\n",
       "      <td>0.000000</td>\n",
       "      <td>0.000000</td>\n",
       "      <td>0.000000</td>\n",
       "      <td>0.000000</td>\n",
       "      <td>1.000000</td>\n",
       "      <td>...</td>\n",
       "      <td>2.000000</td>\n",
       "      <td>0.000000</td>\n",
       "      <td>0.000000</td>\n",
       "      <td>0.000000</td>\n",
       "      <td>0.0</td>\n",
       "      <td>0.000000</td>\n",
       "      <td>0.000000</td>\n",
       "      <td>0.000000</td>\n",
       "      <td>3.777778</td>\n",
       "      <td>4.000000</td>\n",
       "    </tr>\n",
       "    <tr>\n",
       "      <th>max</th>\n",
       "      <td>1.000000</td>\n",
       "      <td>1.000000</td>\n",
       "      <td>1.000000</td>\n",
       "      <td>1.000000</td>\n",
       "      <td>1.000000</td>\n",
       "      <td>1.000000</td>\n",
       "      <td>1.000000</td>\n",
       "      <td>1.000000</td>\n",
       "      <td>1.000000</td>\n",
       "      <td>1.000000</td>\n",
       "      <td>...</td>\n",
       "      <td>3.000000</td>\n",
       "      <td>1.000000</td>\n",
       "      <td>1.000000</td>\n",
       "      <td>1.000000</td>\n",
       "      <td>0.0</td>\n",
       "      <td>1.000000</td>\n",
       "      <td>1.000000</td>\n",
       "      <td>1.000000</td>\n",
       "      <td>4.000000</td>\n",
       "      <td>4.000000</td>\n",
       "    </tr>\n",
       "  </tbody>\n",
       "</table>\n",
       "<p>8 rows × 124 columns</p>\n",
       "</div>"
      ],
      "text/plain": [
       "        ANTH 012   ANTH 050   BIOL 004   BIOL 006   CHIN 033   CHIN 062  \\\n",
       "count  29.000000  29.000000  29.000000  29.000000  29.000000  29.000000   \n",
       "mean    0.034483   0.034483   0.034483   0.034483   0.034483   0.034483   \n",
       "std     0.185695   0.185695   0.185695   0.185695   0.185695   0.185695   \n",
       "min     0.000000   0.000000   0.000000   0.000000   0.000000   0.000000   \n",
       "25%     0.000000   0.000000   0.000000   0.000000   0.000000   0.000000   \n",
       "50%     0.000000   0.000000   0.000000   0.000000   0.000000   0.000000   \n",
       "75%     0.000000   0.000000   0.000000   0.000000   0.000000   0.000000   \n",
       "max     1.000000   1.000000   1.000000   1.000000   1.000000   1.000000   \n",
       "\n",
       "        COSC 007   COSC 020   COSC 027   COSC 050    ...      2013-05-29  \\\n",
       "count  29.000000  29.000000  29.000000  29.000000    ...       29.000000   \n",
       "mean    0.034483   0.034483   0.068966   0.310345    ...        1.413793   \n",
       "std     0.185695   0.185695   0.257881   0.470824    ...        0.568032   \n",
       "min     0.000000   0.000000   0.000000   0.000000    ...        1.000000   \n",
       "25%     0.000000   0.000000   0.000000   0.000000    ...        1.000000   \n",
       "50%     0.000000   0.000000   0.000000   0.000000    ...        1.000000   \n",
       "75%     0.000000   0.000000   0.000000   1.000000    ...        2.000000   \n",
       "max     1.000000   1.000000   1.000000   1.000000    ...        3.000000   \n",
       "\n",
       "       2013-05-30  2013-05-31  2013-06-01  2013-06-02  2013-06-03  2013-06-04  \\\n",
       "count   29.000000   29.000000   29.000000        29.0   29.000000   29.000000   \n",
       "mean     0.068966    0.172414    0.241379         0.0    0.137931    0.068966   \n",
       "std      0.257881    0.384426    0.435494         0.0    0.350931    0.257881   \n",
       "min      0.000000    0.000000    0.000000         0.0    0.000000    0.000000   \n",
       "25%      0.000000    0.000000    0.000000         0.0    0.000000    0.000000   \n",
       "50%      0.000000    0.000000    0.000000         0.0    0.000000    0.000000   \n",
       "75%      0.000000    0.000000    0.000000         0.0    0.000000    0.000000   \n",
       "max      1.000000    1.000000    1.000000         0.0    1.000000    1.000000   \n",
       "\n",
       "       2013-06-05    gpa 13s      cs 65  \n",
       "count   29.000000  29.000000  29.000000  \n",
       "mean     0.034483   3.307471   3.609195  \n",
       "std      0.185695   0.802159   0.807057  \n",
       "min      0.000000   1.000000   0.000000  \n",
       "25%      0.000000   3.333333   3.666667  \n",
       "50%      0.000000   3.500000   4.000000  \n",
       "75%      0.000000   3.777778   4.000000  \n",
       "max      1.000000   4.000000   4.000000  \n",
       "\n",
       "[8 rows x 124 columns]"
      ]
     },
     "execution_count": 86,
     "metadata": {},
     "output_type": "execute_result"
    }
   ],
   "source": [
    "X.describe()"
   ]
  },
  {
   "cell_type": "code",
   "execution_count": 89,
   "metadata": {
    "collapsed": true
   },
   "outputs": [],
   "source": [
    "# Split data into train/test\n",
    "X_train,X_test,y_train,y_test = train_test_split(X,y,test_size=0.2)"
   ]
  },
  {
   "cell_type": "code",
   "execution_count": 90,
   "metadata": {
    "collapsed": false
   },
   "outputs": [
    {
     "data": {
      "text/plain": [
       "(23, 124)"
      ]
     },
     "execution_count": 90,
     "metadata": {},
     "output_type": "execute_result"
    }
   ],
   "source": [
    "X_train.shape"
   ]
  },
  {
   "cell_type": "code",
   "execution_count": 91,
   "metadata": {
    "collapsed": false
   },
   "outputs": [
    {
     "data": {
      "text/plain": [
       "(23,)"
      ]
     },
     "execution_count": 91,
     "metadata": {},
     "output_type": "execute_result"
    }
   ],
   "source": [
    "y_train.shape"
   ]
  },
  {
   "cell_type": "code",
   "execution_count": 92,
   "metadata": {
    "collapsed": false
   },
   "outputs": [
    {
     "data": {
      "text/plain": [
       "(6, 124)"
      ]
     },
     "execution_count": 92,
     "metadata": {},
     "output_type": "execute_result"
    }
   ],
   "source": [
    "X_test.shape"
   ]
  },
  {
   "cell_type": "code",
   "execution_count": 93,
   "metadata": {
    "collapsed": false
   },
   "outputs": [
    {
     "data": {
      "text/plain": [
       "(6,)"
      ]
     },
     "execution_count": 93,
     "metadata": {},
     "output_type": "execute_result"
    }
   ],
   "source": [
    "y_test.shape"
   ]
  },
  {
   "cell_type": "code",
   "execution_count": 148,
   "metadata": {
    "collapsed": false
   },
   "outputs": [
    {
     "data": {
      "text/plain": [
       "RandomForestRegressor(bootstrap=True, criterion='mse', max_depth=None,\n",
       "           max_features='auto', max_leaf_nodes=None, min_samples_leaf=1,\n",
       "           min_samples_split=2, min_weight_fraction_leaf=0.0,\n",
       "           n_estimators=100, n_jobs=1, oob_score=True, random_state=42,\n",
       "           verbose=0, warm_start=False)"
      ]
     },
     "execution_count": 148,
     "metadata": {},
     "output_type": "execute_result"
    }
   ],
   "source": [
    "# Build model\n",
    "model = RandomForestRegressor(n_estimators=100, oob_score=True, random_state=42)\n",
    "\n",
    "# I only use numeric_variables because I have yet to dummy out the categorical variables\n",
    "model.fit(X_train, y_train)"
   ]
  },
  {
   "cell_type": "code",
   "execution_count": 149,
   "metadata": {
    "collapsed": false
   },
   "outputs": [
    {
     "data": {
      "text/plain": [
       "0.44344494325928052"
      ]
     },
     "execution_count": 149,
     "metadata": {},
     "output_type": "execute_result"
    }
   ],
   "source": [
    "# Get R^2\n",
    "model.oob_score_"
   ]
  },
  {
   "cell_type": "code",
   "execution_count": 150,
   "metadata": {
    "collapsed": false
   },
   "outputs": [
    {
     "name": "stdout",
     "output_type": "stream",
     "text": [
      "Mean accuracy:  0.930483138442\n"
     ]
    }
   ],
   "source": [
    "# Get mean accuracy\n",
    "print \"Mean accuracy: \", model.score(X_train, y_train)"
   ]
  },
  {
   "cell_type": "code",
   "execution_count": 151,
   "metadata": {
    "collapsed": false
   },
   "outputs": [
    {
     "data": {
      "text/plain": [
       "array([  0.00000000e+00,   0.00000000e+00,   1.02502784e-04,\n",
       "         1.55811002e-02,   0.00000000e+00,   9.34717526e-05,\n",
       "         0.00000000e+00,   0.00000000e+00,   7.73406019e-04,\n",
       "         7.48324598e-03,   0.00000000e+00,   2.69054182e-04,\n",
       "         2.71265379e-03,   0.00000000e+00,   0.00000000e+00,\n",
       "         1.78552057e-04,   1.94303358e-04,   2.27094557e-06,\n",
       "         0.00000000e+00,   6.02262309e-05,   0.00000000e+00,\n",
       "         1.67448022e-05,   7.76609900e-05,   9.56319602e-04,\n",
       "         5.24844998e-04,   0.00000000e+00,   3.52360007e-04,\n",
       "         3.80232439e-06,   0.00000000e+00,   1.84625410e-04,\n",
       "         2.53199148e-05,   0.00000000e+00,   4.02076624e-05,\n",
       "         4.03730693e-04,   0.00000000e+00,   2.42490657e-03,\n",
       "         1.29877925e-03,   4.68907575e-08,   5.24997864e-05,\n",
       "         1.36743262e-03,   1.92611516e-04,   0.00000000e+00,\n",
       "         5.53452328e-04,   3.68933379e-04,   5.64041836e-03,\n",
       "         6.62698281e-01,   6.36513322e-02,   1.57819935e-02,\n",
       "         5.26315589e-03,   1.97560236e-04,   3.54426294e-03,\n",
       "         5.36359602e-04,   1.89696975e-03,   2.21752675e-03,\n",
       "         0.00000000e+00,   2.18269641e-03,   2.23549848e-04,\n",
       "         3.00871243e-04,   1.50491311e-04,   5.35672236e-06,\n",
       "         6.11205911e-03,   0.00000000e+00,   6.44075608e-03,\n",
       "         6.34870657e-06,   6.25520581e-04,   3.66032097e-03,\n",
       "         1.87312772e-05,   7.08225518e-03,   0.00000000e+00,\n",
       "         0.00000000e+00,   5.07692727e-04,   2.81790639e-03,\n",
       "         4.50316516e-04,   2.56474555e-03,   4.69768617e-04,\n",
       "         0.00000000e+00,   0.00000000e+00,   4.91686957e-05,\n",
       "         2.38263510e-04,   1.73348316e-03,   4.56170428e-03,\n",
       "         1.86690717e-03,   0.00000000e+00,   0.00000000e+00,\n",
       "         2.67309834e-04,   1.06008631e-02,   7.72857425e-03,\n",
       "         7.35281860e-04,   1.03547135e-05,   0.00000000e+00,\n",
       "         0.00000000e+00,   1.36565480e-03,   5.27227127e-03,\n",
       "         3.39765515e-03,   3.96686786e-04,   1.03871347e-03,\n",
       "         0.00000000e+00,   0.00000000e+00,   1.12722483e-03,\n",
       "         5.20574315e-03,   9.55338629e-04,   2.79998951e-06,\n",
       "         3.67673326e-04,   0.00000000e+00,   0.00000000e+00,\n",
       "         1.28530402e-04,   3.66369499e-04,   1.91602411e-03,\n",
       "         8.08447808e-04,   1.19756019e-04,   1.53097460e-03,\n",
       "         0.00000000e+00,   9.00873114e-06,   4.61885624e-03,\n",
       "         3.48923370e-03,   9.69256993e-04,   7.67295177e-06,\n",
       "         6.41713664e-03,   0.00000000e+00,   4.91976343e-04,\n",
       "         8.09246301e-03,   2.75983072e-05,   5.94153305e-02,\n",
       "         3.33273782e-02])"
      ]
     },
     "execution_count": 151,
     "metadata": {},
     "output_type": "execute_result"
    }
   ],
   "source": [
    "model.feature_importances_"
   ]
  },
  {
   "cell_type": "code",
   "execution_count": 152,
   "metadata": {
    "collapsed": false
   },
   "outputs": [
    {
     "data": {
      "image/png": "[encoded data removed]",
      "text/plain": [
       "<matplotlib.figure.Figure at 0x7f3651ff76d0>"
      ]
     },
     "metadata": {},
     "output_type": "display_data"
    }
   ],
   "source": [
    "# Chart to show importance of variables\n",
    "feature_importances = pd.Series(model.feature_importances_, index=X.columns)\n",
    "feature_importances.sort_values(inplace=True)\n",
    "feature_importances.plot(kind=\"barh\", figsize=(20,60));"
   ]
  },
  {
   "cell_type": "markdown",
   "metadata": {},
   "source": [
    "### It appears that the number of days spent in the LMS is a really good predictor of a students GPA"
   ]
  },
  {
   "cell_type": "code",
   "execution_count": 122,
   "metadata": {
    "collapsed": false
   },
   "outputs": [
    {
     "name": "stdout",
     "output_type": "stream",
     "text": [
      "30 trees\n",
      "Mean accuracy  0.942870774661\n",
      "\n",
      "50 trees\n",
      "Mean accuracy  0.938122309634\n",
      "\n",
      "100 trees\n",
      "Mean accuracy  0.930483138442\n",
      "\n",
      "200 trees\n",
      "Mean accuracy  0.940575831794\n",
      "\n",
      "300 trees\n",
      "Mean accuracy  0.943395075525\n",
      "\n",
      "400 trees\n",
      "Mean accuracy  0.942877599296\n",
      "\n",
      "500 trees\n",
      "Mean accuracy  0.940727443318\n",
      "\n",
      "1000 trees\n",
      "Mean accuracy  0.938213602774\n",
      "\n",
      "2000 trees\n",
      "Mean accuracy  0.932163285303\n",
      "\n"
     ]
    },
    {
     "data": {
      "image/png": "[encoded data removed]",
      "text/plain": [
       "<matplotlib.figure.Figure at 0x7f3652a5b910>"
      ]
     },
     "metadata": {},
     "output_type": "display_data"
    }
   ],
   "source": [
    "# Fine-tune model\n",
    "# n_estimator tuning\n",
    "results = []\n",
    "n_estimator_options = [30, 50, 100, 200, 300, 400, 500, 1000, 2000]\n",
    "\n",
    "for trees in n_estimator_options:\n",
    "    model = RandomForestRegressor(trees, oob_score=True, n_jobs=-1, random_state=42)\n",
    "    model.fit(X_train, y_train)\n",
    "    print trees, \"trees\"\n",
    "    scr = model.score(X_train,y_train)\n",
    "    print \"Mean accuracy \", scr\n",
    "    results.append(scr)\n",
    "    print \"\"\n",
    "    \n",
    "pd.Series(results, n_estimator_options).plot();"
   ]
  },
  {
   "cell_type": "markdown",
   "metadata": {},
   "source": [
    "#### 300 estimators seems to be the best number of trees in the forest"
   ]
  },
  {
   "cell_type": "code",
   "execution_count": 126,
   "metadata": {
    "collapsed": false
   },
   "outputs": [
    {
     "name": "stdout",
     "output_type": "stream",
     "text": [
      "auto option\n",
      "Mean accuracy:  0.943395075525\n",
      "\n",
      "None option\n",
      "Mean accuracy:  0.943395075525\n",
      "\n",
      "sqrt option\n",
      "Mean accuracy:  0.930957399144\n",
      "\n",
      "log2 option\n",
      "Mean accuracy:  0.92847847624\n",
      "\n",
      "0.9 option\n",
      "Mean accuracy:  0.944140067855\n",
      "\n",
      "0.2 option\n",
      "Mean accuracy:  0.935939894977\n",
      "\n"
     ]
    },
    {
     "data": {
      "image/png": "[encoded data removed]",
      "text/plain": [
       "<matplotlib.figure.Figure at 0x7f3652e93850>"
      ]
     },
     "metadata": {},
     "output_type": "display_data"
    }
   ],
   "source": [
    "# max_feature tuning\n",
    "results = []\n",
    "max_features_options = [\"auto\", None, \"sqrt\", \"log2\", 0.9, 0.2]\n",
    "\n",
    "for max_features in max_features_options:\n",
    "    model = RandomForestRegressor(n_estimators=300, oob_score=True, n_jobs=-1, random_state=42, max_features=max_features)\n",
    "    model.fit(X_train, y_train)\n",
    "    print max_features, \"option\"\n",
    "    scr = model.score(X_train, y_train)\n",
    "    print \"Mean accuracy: \", scr\n",
    "    results.append(scr)\n",
    "    print \"\"\n",
    "    \n",
    "pd.Series(results, max_features_options).plot(kind=\"barh\", xlim=(.92,.95));"
   ]
  },
  {
   "cell_type": "code",
   "execution_count": 127,
   "metadata": {
    "collapsed": false
   },
   "outputs": [
    {
     "name": "stdout",
     "output_type": "stream",
     "text": [
      "1 min samples\n",
      "Mean accuracy:  0.943395075525\n",
      "\n",
      "2 min samples\n",
      "Mean accuracy:  0.895173280981\n",
      "\n",
      "3 min samples\n",
      "Mean accuracy:  0.837660013498\n",
      "\n",
      "4 min samples\n",
      "Mean accuracy:  0.76477108582\n",
      "\n",
      "5 min samples\n",
      "Mean accuracy:  0.731323031027\n",
      "\n",
      "6 min samples\n",
      "Mean accuracy:  0.716039743268\n",
      "\n",
      "7 min samples\n",
      "Mean accuracy:  0.646720366578\n",
      "\n",
      "8 min samples\n",
      "Mean accuracy:  0.311784131776\n",
      "\n",
      "9 min samples\n",
      "Mean accuracy:  0.0365779074863\n",
      "\n",
      "10 min samples\n",
      "Mean accuracy:  -5.56963695271e-05\n",
      "\n"
     ]
    },
    {
     "data": {
      "image/png": "[encoded data removed]",
      "text/plain": [
       "<matplotlib.figure.Figure at 0x7f3652a790d0>"
      ]
     },
     "metadata": {},
     "output_type": "display_data"
    }
   ],
   "source": [
    "# tuning min_samples_leaf\n",
    "results = []\n",
    "min_samples_leaf_options = [1, 2, 3, 4, 5, 6, 7, 8, 9, 10]\n",
    "\n",
    "for min_samples in min_samples_leaf_options:\n",
    "    model = RandomForestRegressor(n_estimators=300, \n",
    "                                  oob_score=True, \n",
    "                                  n_jobs=-1, \n",
    "                                  random_state=42, \n",
    "                                  max_features=\"auto\", \n",
    "                                  min_samples_leaf=min_samples)\n",
    "    model.fit(X_train, y_train)\n",
    "    print min_samples, \"min samples\"\n",
    "    scr = model.score(X_train, y_train)\n",
    "    print \"Mean accuracy: \", scr\n",
    "    results.append(scr)\n",
    "    print \"\"\n",
    "    \n",
    "pd.Series(results, min_samples_leaf_options).plot();"
   ]
  },
  {
   "cell_type": "code",
   "execution_count": 128,
   "metadata": {
    "collapsed": false
   },
   "outputs": [
    {
     "name": "stdout",
     "output_type": "stream",
     "text": [
      "Mean accuracy:  0.943395075525\n"
     ]
    }
   ],
   "source": [
    "# Tuned model\n",
    "model = RandomForestRegressor(n_estimators=300, \n",
    "                              oob_score=True, \n",
    "                              n_jobs=-1, \n",
    "                              random_state=42, \n",
    "                              max_features=\"auto\", \n",
    "                              min_samples_leaf=1)\n",
    "model.fit(X_train, y_train)\n",
    "scr = model.score(X_train, y_train)\n",
    "print \"Mean accuracy: \", scr"
   ]
  },
  {
   "cell_type": "code",
   "execution_count": 141,
   "metadata": {
    "collapsed": false
   },
   "outputs": [],
   "source": [
    "#feature scaling\n",
    "scaler = StandardScaler()\n",
    "X_scaled = scaler.fit_transform(X)"
   ]
  },
  {
   "cell_type": "code",
   "execution_count": 142,
   "metadata": {
    "collapsed": false
   },
   "outputs": [
    {
     "data": {
      "text/plain": [
       "array([[ 5.29150262, -0.18898224, -0.18898224, ...,  5.29150262,\n",
       "        -1.94072391, -0.76819662],\n",
       "       [-0.18898224, -0.18898224, -0.18898224, ..., -0.18898224,\n",
       "         0.87861202,  0.49280538],\n",
       "       [-0.18898224, -0.18898224, -0.18898224, ..., -0.18898224,\n",
       "         0.24426143,  0.49280538],\n",
       "       ..., \n",
       "       [-0.18898224, -0.18898224, -0.18898224, ..., -0.18898224,\n",
       "         0.17377803,  0.49280538],\n",
       "       [-0.18898224, -0.18898224, -0.18898224, ..., -0.18898224,\n",
       "        -0.81298954,  0.49280538],\n",
       "       [-0.18898224, -0.18898224, -0.18898224, ..., -0.18898224,\n",
       "         0.31474483,  0.07247138]])"
      ]
     },
     "execution_count": 142,
     "metadata": {},
     "output_type": "execute_result"
    }
   ],
   "source": [
    "X_scaled"
   ]
  },
  {
   "cell_type": "code",
   "execution_count": 143,
   "metadata": {
    "collapsed": true
   },
   "outputs": [],
   "source": [
    "def find_k (X, k_range, sample_percent=1):\n",
    "    \"\"\"\n",
    "    k_range: a list of possible k values\n",
    "    X, the data we're clustering on\n",
    "    \"\"\"\n",
    "    from sklearn.cluster import KMeans\n",
    "    import matplotlib.pyplot as plt\n",
    "    import numpy as np\n",
    "    from scipy.spatial.distance import cdist\n",
    "    from sklearn.metrics import pairwise_distances\n",
    "\n",
    "    N = X.shape[0]\n",
    "    sampleSize = X.shape[0] * sample_percent\n",
    "\n",
    "    if sampleSize > 0:\n",
    "        index = np.arange(np.shape(X)[0])\n",
    "        np.random.shuffle(index)\n",
    "        X =  X[index, :]\n",
    "\n",
    "\n",
    "    mean_distortions=[]\n",
    "    for k in k_range:\n",
    "        #cluster using k, then calculate the mean distortion (average distance to closest centroid)\n",
    "        kmeans_model = KMeans(n_clusters=k, init='k-means++', n_jobs=-1).fit(X)\n",
    "        mean_distortions.append(sum(np.min(pairwise_distances(X, kmeans_model.cluster_centers_,\n",
    "                                                              metric='euclidean'),axis=1)) / X.shape[0])\n",
    "\n",
    "\n",
    "    #visualize results\n",
    "    plt.plot(k_range, mean_distortions)\n",
    "    plt.xlabel(\"K Value\")\n",
    "    plt.ylabel(\"Mean Distortion\")\n",
    "    plt.title(\"Elbow Graph for Mean Distortion per K\")\n",
    "    plt.show()"
   ]
  },
  {
   "cell_type": "code",
   "execution_count": 144,
   "metadata": {
    "collapsed": false
   },
   "outputs": [
    {
     "data": {
      "image/png": "[encoded data removed]",
      "text/plain": [
       "<matplotlib.figure.Figure at 0x7f36595d2490>"
      ]
     },
     "metadata": {},
     "output_type": "display_data"
    }
   ],
   "source": [
    "find_k(np.matrix(X), range(1,10),1)"
   ]
  },
  {
   "cell_type": "code",
   "execution_count": 145,
   "metadata": {
    "collapsed": false
   },
   "outputs": [
    {
     "data": {
      "text/plain": [
       "KMeans(copy_x=True, init='k-means++', max_iter=300, n_clusters=3, n_init=10,\n",
       "    n_jobs=1, precompute_distances='auto', random_state=42, tol=0.0001,\n",
       "    verbose=0)"
      ]
     },
     "execution_count": 145,
     "metadata": {},
     "output_type": "execute_result"
    }
   ],
   "source": [
    "kmeans_model = KMeans(n_clusters=3, random_state=42)\n",
    "kmeans_model.fit(X_scaled)"
   ]
  },
  {
   "cell_type": "code",
   "execution_count": 146,
   "metadata": {
    "collapsed": false
   },
   "outputs": [
    {
     "data": {
      "text/plain": [
       "<mpl_toolkits.mplot3d.art3d.Path3DCollection at 0x7f3652fe4410>"
      ]
     },
     "execution_count": 146,
     "metadata": {},
     "output_type": "execute_result"
    },
    {
     "data": {
      "image/png": "[encoded data removed]",
      "text/plain": [
       "<matplotlib.figure.Figure at 0x7f3652aa7a90>"
      ]
     },
     "metadata": {},
     "output_type": "display_data"
    }
   ],
   "source": [
    "from sklearn.manifold import TSNE\n",
    "from mpl_toolkits.mplot3d import Axes3D\n",
    "import matplotlib.pyplot as plt\n",
    "\n",
    "model = TSNE(n_components=3, learning_rate=12, random_state=10)\n",
    "X_tsne = model.fit_transform(X) \n",
    "plt.figure(figsize=(10,10))\n",
    "ax = plt.subplot(111, projection='3d')\n",
    "ax.scatter(X_tsne[:, 0], X_tsne[:, 1],X_tsne[:,2], c=kmeans_model.labels_)"
   ]
  },
  {
   "cell_type": "code",
   "execution_count": null,
   "metadata": {
    "collapsed": true
   },
   "outputs": [],
   "source": []
  }
 ],
 "metadata": {
  "kernelspec": {
   "display_name": "Python 2",
   "language": "python",
   "name": "python2"
  },
  "language_info": {
   "codemirror_mode": {
    "name": "ipython",
    "version": 2
   },
   "file_extension": ".py",
   "mimetype": "text/x-python",
   "name": "python",
   "nbconvert_exporter": "python",
   "pygments_lexer": "ipython2",
   "version": "2.7.11"
  }
 },
 "nbformat": 4,
 "nbformat_minor": 0
}
